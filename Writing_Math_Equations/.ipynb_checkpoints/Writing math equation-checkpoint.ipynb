{
 "cells": [
  {
   "cell_type": "markdown",
   "id": "754dade4",
   "metadata": {},
   "source": [
    " ## What are the symbols we need to write?"
   ]
  },
  {
   "cell_type": "raw",
   "id": "f2bb38be",
   "metadata": {},
   "source": [
    "\n",
    " * Hat: \\hat\n",
    " * Subscript: _{}\n",
    " * Sum: \\sum\n",
    " * Limit of sum: \\limits_{}^{}\n",
    " * Alpha: \\alpha\n",
    " * Beta: \\beta\n",
    " * Gamma: \\gamma\n",
    " * Sigma: \\sigma\n",
    " * Fraction: \\frac{}{}\n",
    " * Partial derivative: \\partial\n",
    " * Big parenthesis: \\Bigg\n",
    " * To write under a text: \\underset()\n",
    " * Display style in math mode: \\displaystyle\n",
    " * Line break: <br>      \n",
    " * Space:  &emsp;   \n",
    " * Belongs to sign: \\in \n",
    " * Making a letter large: \\Large\n",
    " * For matrix: \\begin{bmatrix}  \\end{bmatrix}\n",
    " * Space: \\\n",
    " * A new line: \\\\"
   ]
  },
  {
   "cell_type": "markdown",
   "id": "60c1beef",
   "metadata": {},
   "source": [
    "[Greek symbols and more](https://www.overleaf.com/learn/latex/List_of_Greek_letters_and_math_symbols)"
   ]
  },
  {
   "cell_type": "markdown",
   "id": "483f9624",
   "metadata": {},
   "source": [
    "#### Linear Model Equation"
   ]
  },
  {
   "cell_type": "markdown",
   "id": "3f4e3bc2",
   "metadata": {},
   "source": [
    "$\\hat{Y}=\\hat{\\beta}_{0}+\\sum\\limits_{j=1}^{p}X_{j}\\hat{\\beta}_{j}$"
   ]
  },
  {
   "cell_type": "markdown",
   "id": "9a4723d9",
   "metadata": {},
   "source": [
    "$$\\hat{Y}=\\hat{\\beta}_{0}+\\sum\\limits_{j=1}^{p}X_{j}\\hat{\\beta}_{j}$$"
   ]
  },
  {
   "cell_type": "raw",
   "id": "dfcd99b4",
   "metadata": {},
   "source": [
    "$$\\hat{Y}=\\hat{\\beta}_{0}+\\sum\\limits_{j=1}^{p}X_{j}\\hat{\\beta}_{j}$$"
   ]
  },
  {
   "cell_type": "markdown",
   "id": "d93b80bf",
   "metadata": {},
   "source": [
    "***\n",
    "$\\mathbf{\\text{Gradient Tree Boosting Algorithm}}$<br>\n",
    "***\n",
    "1.&emsp;Initialize model with a constant value $$f_{0}(x) = \\textrm{arg min}_{\\gamma} \\sum \\limits _{i=1} ^{N} L(y_{i}, \\gamma)$$\n",
    "2.&emsp;For m = 1 to M:<br>\n",
    "&emsp;&emsp;(a)&emsp;For $i = 1,2,...,N$ compute<br>\n",
    "    $$r_{im} = - \\displaystyle \\Bigg[\\frac{\\partial L(y_{i}, f(x_{i}))}{\\partial f(x_{i})}\\Bigg]_{f=f_{m−1}}$$\n",
    "&emsp;&emsp;(b)&emsp;Fit a regression tree to the targets $r_{im}$ giving terminal regions<br>\n",
    "&emsp;&emsp;&emsp;&emsp;$R_{jm}, j = 1, 2, . . . , J_{m}.$<br><br>\n",
    "&emsp;&emsp;(c)&emsp;For $j = 1, 2, . . . , J_{m}$ compute<br>\n",
    "$$\\gamma_{jm} = \\underset{\\gamma}{\\textrm{arg min}} \\sum \\limits _{x_{i} \\in R_{jm}} L(y_{i}, f_{m−1}(x_{i}) + \\gamma)$$\n",
    "<br>\n",
    "&emsp;&emsp;(d)&emsp;Update $f_{m}(x) = f_{m−1}(x) + \\sum _{j=1} ^{J_{m}} \\gamma_{jm} I(x \\in R_{jm})$<br><br>\n",
    "3. Output $\\hat{f}(x) = f_{M}(x)$\n",
    "***"
   ]
  },
  {
   "cell_type": "raw",
   "id": "378f487b",
   "metadata": {},
   "source": [
    "***\n",
    "$\\mathbf{\\text{Gradient Tree Boosting Algorithm}}$<br>\n",
    "***\n",
    "1.&emsp;Initialize model with a constant value $$f_{0}(x) = \\textrm{arg min}_{\\gamma} \\sum \\limits _{i=1} ^{N} L(y_{i}, \\gamma)$$\n",
    "2.&emsp;For m = 1 to M:<br>\n",
    "&emsp;&emsp;(a)&emsp;For $i = 1,2,...,N$ compute<br>\n",
    "    $$r_{im} = - \\displaystyle \\Bigg[\\frac{\\partial L(y_{i}, f(x_{i}))}{\\partial f(x_{i})}\\Bigg]_{f=f_{m−1}}$$\n",
    "&emsp;&emsp;(b)&emsp;Fit a regression tree to the targets $r_{im}$ giving terminal regions<br>\n",
    "&emsp;&emsp;&emsp;&emsp;$R_{jm}, j = 1, 2, . . . , J_{m}.$<br><br>\n",
    "&emsp;&emsp;(c)&emsp;For $j = 1, 2, . . . , J_{m}$ compute<br>\n",
    "$$\\gamma_{jm} = \\underset{\\gamma}{\\textrm{arg min}} \\sum \\limits _{x_{i} \\in R_{jm}} L(y_{i}, f_{m−1}(x_{i}) + \\gamma)$$\n",
    "<br>\n",
    "&emsp;&emsp;(d)&emsp;Update $f_{m}(x) = f_{m−1}(x) + \\sum _{j=1} ^{J_{m}} \\gamma_{jm} I(x \\in R_{jm})$<br><br>\n",
    "3. Output $\\hat{f}(x) = f_{M}(x)$\n",
    "***"
   ]
  },
  {
   "cell_type": "markdown",
   "id": "a02330c9",
   "metadata": {},
   "source": [
    "####  Matrix"
   ]
  },
  {
   "cell_type": "markdown",
   "id": "90456f90",
   "metadata": {},
   "source": [
    "$ A=\\begin{bmatrix} a & b \\\\ c & d \\end{bmatrix}$"
   ]
  },
  {
   "cell_type": "raw",
   "id": "003fa911",
   "metadata": {},
   "source": [
    "$ A=\\begin{bmatrix} a & b \\\\ c & d \\end{bmatrix}$"
   ]
  },
  {
   "cell_type": "markdown",
   "id": "756f3ed0",
   "metadata": {},
   "source": [
    "#### Variance Covariance Matrix"
   ]
  },
  {
   "cell_type": "markdown",
   "id": "32a0049b",
   "metadata": {},
   "source": [
    "$ \\Large \\sigma=\\begin{bmatrix} \\sigma^{2}_{xx} & \\sigma_{xy} \\\\ \\sigma_{yx} & \\sigma^{2}_{yy} \\end{bmatrix}$"
   ]
  },
  {
   "cell_type": "raw",
   "id": "3f304943",
   "metadata": {},
   "source": [
    "$ \\Large \\sigma=\\begin{bmatrix} \\sigma^{2}_{xx} & \\sigma_{xy} \\\\ \\sigma_{yx} & \\sigma^{2}_{yy} \\end{bmatrix}$"
   ]
  }
 ],
 "metadata": {
  "kernelspec": {
   "display_name": "Python 3",
   "language": "python",
   "name": "python3"
  },
  "language_info": {
   "codemirror_mode": {
    "name": "ipython",
    "version": 3
   },
   "file_extension": ".py",
   "mimetype": "text/x-python",
   "name": "python",
   "nbconvert_exporter": "python",
   "pygments_lexer": "ipython3",
   "version": "3.8.8"
  }
 },
 "nbformat": 4,
 "nbformat_minor": 5
}
