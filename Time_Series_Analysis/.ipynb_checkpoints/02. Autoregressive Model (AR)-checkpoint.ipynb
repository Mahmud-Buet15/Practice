{
 "cells": [
  {
   "cell_type": "markdown",
   "id": "5efaf279",
   "metadata": {},
   "source": [
    "# Autoregressive Model (AR)\n",
    "* Relies on past period values and past periods only to predict current period values.\n",
    "* A linear model, where current period values are a sum of past outcomes multiplied by a  numeric factor.\n",
    "$$X_{t} = C+\\varphi X_{t-1} + \\varepsilon_{t}$$\n",
    "Here,\n",
    "$X_{t}$ = The values of X in present <br>\n",
    "$X_{t-1}$ = The values of X during the previous period <br>\n",
    "$\\varphi$ = Any numeric constant by which we multiply the lagged variable . (Lag coefficient)\n",
    "$$-1<\\varphi<1$$\n",
    "$\\varepsilon_{t}$ = Residual. The difference between our prediction for period 't' and the correct value"
   ]
  },
  {
   "cell_type": "markdown",
   "id": "02426640",
   "metadata": {},
   "source": [
    "## Importing the relevant packages"
   ]
  },
  {
   "cell_type": "code",
   "execution_count": 1,
   "id": "b527bab6",
   "metadata": {},
   "outputs": [],
   "source": [
    "import pandas as pd\n",
    "import numpy as np\n",
    "import matplotlib.pyplot as plt\n",
    "import statsmodels.graphics.tsaplots as sgt\n",
    "from statsmodels.tsa.arima_model import ARMA\n",
    "from scipy.stats.distributions import chi2\n",
    "import statsmodels.tsa.stattools as sts \n",
    "import seaborn as sns\n",
    "sns.set()"
   ]
  },
  {
   "cell_type": "markdown",
   "id": "016a7321",
   "metadata": {},
   "source": [
    "## Importing the Data and Pre-processing "
   ]
  },
  {
   "cell_type": "code",
   "execution_count": 2,
   "id": "7e700f5a",
   "metadata": {},
   "outputs": [],
   "source": [
    "raw_csv_data = pd.read_csv(\"dataset/Index2018.csv\") \n",
    "df_comp=raw_csv_data.copy()\n",
    "df_comp.date = pd.to_datetime(df_comp.date, dayfirst = True)  # converting date from string to datetime object\n",
    "df_comp.set_index(\"date\", inplace=True)\n",
    "df_comp=df_comp.asfreq('b')\n",
    "df_comp=df_comp.fillna(method='ffill')"
   ]
  },
  {
   "cell_type": "code",
   "execution_count": 3,
   "id": "0fc25d4f",
   "metadata": {},
   "outputs": [],
   "source": [
    "df_comp['market_value']=df_comp.ftse"
   ]
  },
  {
   "cell_type": "code",
   "execution_count": 4,
   "id": "869080ee",
   "metadata": {},
   "outputs": [],
   "source": [
    "del df_comp['spx']\n",
    "del df_comp['dax']\n",
    "del df_comp['ftse']\n",
    "del df_comp['nikkei']\n",
    "size = int(len(df_comp)*0.8)\n",
    "df, df_test = df_comp.iloc[:size], df_comp.iloc[size:]  #splitting in train and test set"
   ]
  },
  {
   "cell_type": "markdown",
   "id": "c18f5d34",
   "metadata": {},
   "source": [
    "## The ACF"
   ]
  },
  {
   "cell_type": "code",
   "execution_count": 5,
   "id": "eb4cbad2",
   "metadata": {},
   "outputs": [
    {
     "data": {
      "text/html": [
       "<div>\n",
       "<style scoped>\n",
       "    .dataframe tbody tr th:only-of-type {\n",
       "        vertical-align: middle;\n",
       "    }\n",
       "\n",
       "    .dataframe tbody tr th {\n",
       "        vertical-align: top;\n",
       "    }\n",
       "\n",
       "    .dataframe thead th {\n",
       "        text-align: right;\n",
       "    }\n",
       "</style>\n",
       "<table border=\"1\" class=\"dataframe\">\n",
       "  <thead>\n",
       "    <tr style=\"text-align: right;\">\n",
       "      <th></th>\n",
       "      <th>market_value</th>\n",
       "    </tr>\n",
       "    <tr>\n",
       "      <th>date</th>\n",
       "      <th></th>\n",
       "    </tr>\n",
       "  </thead>\n",
       "  <tbody>\n",
       "    <tr>\n",
       "      <th>1994-01-07</th>\n",
       "      <td>3445.98</td>\n",
       "    </tr>\n",
       "    <tr>\n",
       "      <th>1994-01-10</th>\n",
       "      <td>3440.58</td>\n",
       "    </tr>\n",
       "    <tr>\n",
       "      <th>1994-01-11</th>\n",
       "      <td>3413.77</td>\n",
       "    </tr>\n",
       "    <tr>\n",
       "      <th>1994-01-12</th>\n",
       "      <td>3372.02</td>\n",
       "    </tr>\n",
       "    <tr>\n",
       "      <th>1994-01-13</th>\n",
       "      <td>3360.01</td>\n",
       "    </tr>\n",
       "  </tbody>\n",
       "</table>\n",
       "</div>"
      ],
      "text/plain": [
       "            market_value\n",
       "date                    \n",
       "1994-01-07       3445.98\n",
       "1994-01-10       3440.58\n",
       "1994-01-11       3413.77\n",
       "1994-01-12       3372.02\n",
       "1994-01-13       3360.01"
      ]
     },
     "execution_count": 5,
     "metadata": {},
     "output_type": "execute_result"
    }
   ],
   "source": [
    "df.head()"
   ]
  },
  {
   "cell_type": "code",
   "execution_count": 6,
   "id": "0042282f",
   "metadata": {},
   "outputs": [
    {
     "data": {
      "image/png": "[encoded data removed]",
      "text/plain": [
       "<Figure size 432x288 with 1 Axes>"
      ]
     },
     "metadata": {},
     "output_type": "display_data"
    }
   ],
   "source": [
    "sgt.plot_acf(df.market_value,zero=False,lags=40)\n",
    "plt.title(\"ACF for Prices\", size = 20)\n",
    "plt.show()"
   ]
  },
  {
   "cell_type": "markdown",
   "id": "f0df0b82",
   "metadata": {},
   "source": [
    "## The PACF"
   ]
  },
  {
   "cell_type": "code",
   "execution_count": 7,
   "id": "c518804b",
   "metadata": {},
   "outputs": [
    {
     "data": {
      "image/png": "[encoded data removed]",
      "text/plain": [
       "<Figure size 432x288 with 1 Axes>"
      ]
     },
     "metadata": {},
     "output_type": "display_data"
    }
   ],
   "source": [
    "sgt.plot_pacf(df.market_value,zero=False,lags=40,method = ('ols'))\n",
    "plt.title(\"PACF for Prices\", size = 20)\n",
    "plt.show()"
   ]
  },
  {
   "cell_type": "code",
   "execution_count": 8,
   "id": "d191f716",
   "metadata": {},
   "outputs": [],
   "source": [
    "import warnings\n",
    "warnings.filterwarnings(\"ignore\")"
   ]
  },
  {
   "cell_type": "markdown",
   "id": "f8476cbd",
   "metadata": {},
   "source": [
    "## The AR(1) Model"
   ]
  },
  {
   "cell_type": "code",
   "execution_count": 9,
   "id": "8dced2e6",
   "metadata": {},
   "outputs": [],
   "source": [
    "model_ar = ARMA(df.market_value, order=(1,0))"
   ]
  },
  {
   "cell_type": "markdown",
   "id": "6dcf2115",
   "metadata": {},
   "source": [
    "**The equation:** $$X_{t} = C+\\varphi X_{t-1}+ \\varepsilon_{t}$$\n",
    "**NOTES:**\n",
    "* Calculating constant and coefficient for 1 lag. This is \"simple\" Autoregressive model = AR(1).\n",
    "* In order=(1,0) , 1 means **how many lags we want** and 0 means **we're not taking any residual values into consideration**."
   ]
  },
  {
   "cell_type": "code",
   "execution_count": 10,
   "id": "63231491",
   "metadata": {},
   "outputs": [],
   "source": [
    "results_ar = model_ar.fit()"
   ]
  },
  {
   "cell_type": "code",
   "execution_count": 11,
   "id": "e78c5dc5",
   "metadata": {},
   "outputs": [
    {
     "data": {
      "text/html": [
       "<table class=\"simpletable\">\n",
       "<caption>ARMA Model Results</caption>\n",
       "<tr>\n",
       "  <th>Dep. Variable:</th>   <td>market_value</td>   <th>  No. Observations:  </th>    <td>5021</td>   \n",
       "</tr>\n",
       "<tr>\n",
       "  <th>Model:</th>            <td>ARMA(1, 0)</td>    <th>  Log Likelihood     </th> <td>-27622.599</td>\n",
       "</tr>\n",
       "<tr>\n",
       "  <th>Method:</th>             <td>css-mle</td>     <th>  S.D. of innovations</th>   <td>59.258</td>  \n",
       "</tr>\n",
       "<tr>\n",
       "  <th>Date:</th>          <td>Sun, 15 Aug 2021</td> <th>  AIC                </th>  <td>55251.198</td>\n",
       "</tr>\n",
       "<tr>\n",
       "  <th>Time:</th>              <td>16:19:58</td>     <th>  BIC                </th>  <td>55270.763</td>\n",
       "</tr>\n",
       "<tr>\n",
       "  <th>Sample:</th>           <td>01-07-1994</td>    <th>  HQIC               </th>  <td>55258.054</td>\n",
       "</tr>\n",
       "<tr>\n",
       "  <th></th>                 <td>- 04-05-2013</td>   <th>                     </th>      <td> </td>    \n",
       "</tr>\n",
       "</table>\n",
       "<table class=\"simpletable\">\n",
       "<tr>\n",
       "           <td></td>             <th>coef</th>     <th>std err</th>      <th>z</th>      <th>P>|z|</th>  <th>[0.025</th>    <th>0.975]</th>  \n",
       "</tr>\n",
       "<tr>\n",
       "  <th>const</th>              <td> 5066.3703</td> <td>  482.167</td> <td>   10.507</td> <td> 0.000</td> <td> 4121.340</td> <td> 6011.401</td>\n",
       "</tr>\n",
       "<tr>\n",
       "  <th>ar.L1.market_value</th> <td>    0.9985</td> <td>    0.001</td> <td> 1296.964</td> <td> 0.000</td> <td>    0.997</td> <td>    1.000</td>\n",
       "</tr>\n",
       "</table>\n",
       "<table class=\"simpletable\">\n",
       "<caption>Roots</caption>\n",
       "<tr>\n",
       "    <td></td>   <th>            Real</th>  <th>         Imaginary</th> <th>         Modulus</th>  <th>        Frequency</th>\n",
       "</tr>\n",
       "<tr>\n",
       "  <th>AR.1</th> <td>           1.0015</td> <td>          +0.0000j</td> <td>           1.0015</td> <td>           0.0000</td>\n",
       "</tr>\n",
       "</table>"
      ],
      "text/plain": [
       "<class 'statsmodels.iolib.summary.Summary'>\n",
       "\"\"\"\n",
       "                              ARMA Model Results                              \n",
       "==============================================================================\n",
       "Dep. Variable:           market_value   No. Observations:                 5021\n",
       "Model:                     ARMA(1, 0)   Log Likelihood              -27622.599\n",
       "Method:                       css-mle   S.D. of innovations             59.258\n",
       "Date:                Sun, 15 Aug 2021   AIC                          55251.198\n",
       "Time:                        16:19:58   BIC                          55270.763\n",
       "Sample:                    01-07-1994   HQIC                         55258.054\n",
       "                         - 04-05-2013                                         \n",
       "======================================================================================\n",
       "                         coef    std err          z      P>|z|      [0.025      0.975]\n",
       "--------------------------------------------------------------------------------------\n",
       "const               5066.3703    482.167     10.507      0.000    4121.340    6011.401\n",
       "ar.L1.market_value     0.9985      0.001   1296.964      0.000       0.997       1.000\n",
       "                                    Roots                                    \n",
       "=============================================================================\n",
       "                  Real          Imaginary           Modulus         Frequency\n",
       "-----------------------------------------------------------------------------\n",
       "AR.1            1.0015           +0.0000j            1.0015            0.0000\n",
       "-----------------------------------------------------------------------------\n",
       "\"\"\""
      ]
     },
     "execution_count": 11,
     "metadata": {},
     "output_type": "execute_result"
    }
   ],
   "source": [
    "results_ar.summary()"
   ]
  },
  {
   "cell_type": "markdown",
   "id": "4a779402",
   "metadata": {},
   "source": [
    "**NOTES**\n",
    "* **const**= C and **ar.L1.market_value**=$\\varphi$\n",
    "* **coef** column contains the values of the coefficients\n",
    "* **z** column contains the associated **test-statistics** for significance \n",
    "* **P>|z|** column contains Pvalue. As it's zero for both, we can safely conclude that the constant (C) and 1 lag value ($\\varphi$) are both **significantly different from zero**.  <br>\n",
    "  **(The Null Hypothesis is, Coefficients are 0. As Pvalue is zero (less then 0.05 or 5%), we can reject the null hypothesis.So, the coefficients         are not 0. So, they're significant)**\n",
    "* The last two columns contains the critical values for 95 percent confidence interval. If 0 is not a part of it we can confirm the coefficients are significant\n",
    "\n",
    "**As Pvalue for both of the coefficents are zero, we can try fitting a more complex model for greater accuracy**"
   ]
  },
  {
   "cell_type": "markdown",
   "id": "44e5f1f7",
   "metadata": {},
   "source": [
    "## Higher-Lag AR Models"
   ]
  },
  {
   "cell_type": "code",
   "execution_count": 12,
   "id": "aac75584",
   "metadata": {},
   "outputs": [],
   "source": [
    "model_ar_2 = ARMA(df.market_value, order=(2,0))"
   ]
  },
  {
   "cell_type": "markdown",
   "id": "86b61c56",
   "metadata": {},
   "source": [
    "**The equation:** $$X_{t} = C+\\varphi_{1} X_{t-1}+\\varphi_{2} X_{t-2}+ \\varepsilon_{t}$$\n",
    "**NOTES:**\n",
    "* Calculating constant and coefficient for 2 lag. This is Autoregressive model = AR(2).\n",
    "* In order=(2,0) , 2 means **how many lags we want** and 0 means **we're not taking any residual values into consideration**."
   ]
  },
  {
   "cell_type": "code",
   "execution_count": 13,
   "id": "64662894",
   "metadata": {},
   "outputs": [
    {
     "data": {
      "text/html": [
       "<table class=\"simpletable\">\n",
       "<caption>ARMA Model Results</caption>\n",
       "<tr>\n",
       "  <th>Dep. Variable:</th>   <td>market_value</td>   <th>  No. Observations:  </th>    <td>5021</td>   \n",
       "</tr>\n",
       "<tr>\n",
       "  <th>Model:</th>            <td>ARMA(2, 0)</td>    <th>  Log Likelihood     </th> <td>-27621.871</td>\n",
       "</tr>\n",
       "<tr>\n",
       "  <th>Method:</th>             <td>css-mle</td>     <th>  S.D. of innovations</th>   <td>59.249</td>  \n",
       "</tr>\n",
       "<tr>\n",
       "  <th>Date:</th>          <td>Sun, 15 Aug 2021</td> <th>  AIC                </th>  <td>55251.742</td>\n",
       "</tr>\n",
       "<tr>\n",
       "  <th>Time:</th>              <td>16:19:59</td>     <th>  BIC                </th>  <td>55277.827</td>\n",
       "</tr>\n",
       "<tr>\n",
       "  <th>Sample:</th>           <td>01-07-1994</td>    <th>  HQIC               </th>  <td>55260.883</td>\n",
       "</tr>\n",
       "<tr>\n",
       "  <th></th>                 <td>- 04-05-2013</td>   <th>                     </th>      <td> </td>    \n",
       "</tr>\n",
       "</table>\n",
       "<table class=\"simpletable\">\n",
       "<tr>\n",
       "           <td></td>             <th>coef</th>     <th>std err</th>      <th>z</th>      <th>P>|z|</th>  <th>[0.025</th>    <th>0.975]</th>  \n",
       "</tr>\n",
       "<tr>\n",
       "  <th>const</th>              <td> 5089.6411</td> <td>  495.679</td> <td>   10.268</td> <td> 0.000</td> <td> 4118.127</td> <td> 6061.155</td>\n",
       "</tr>\n",
       "<tr>\n",
       "  <th>ar.L1.market_value</th> <td>    0.9814</td> <td>    0.014</td> <td>   69.595</td> <td> 0.000</td> <td>    0.954</td> <td>    1.009</td>\n",
       "</tr>\n",
       "<tr>\n",
       "  <th>ar.L2.market_value</th> <td>    0.0171</td> <td>    0.014</td> <td>    1.211</td> <td> 0.226</td> <td>   -0.011</td> <td>    0.045</td>\n",
       "</tr>\n",
       "</table>\n",
       "<table class=\"simpletable\">\n",
       "<caption>Roots</caption>\n",
       "<tr>\n",
       "    <td></td>   <th>            Real</th>  <th>         Imaginary</th> <th>         Modulus</th>  <th>        Frequency</th>\n",
       "</tr>\n",
       "<tr>\n",
       "  <th>AR.1</th> <td>           1.0015</td> <td>          +0.0000j</td> <td>           1.0015</td> <td>           0.0000</td>\n",
       "</tr>\n",
       "<tr>\n",
       "  <th>AR.2</th> <td>         -58.4620</td> <td>          +0.0000j</td> <td>          58.4620</td> <td>           0.5000</td>\n",
       "</tr>\n",
       "</table>"
      ],
      "text/plain": [
       "<class 'statsmodels.iolib.summary.Summary'>\n",
       "\"\"\"\n",
       "                              ARMA Model Results                              \n",
       "==============================================================================\n",
       "Dep. Variable:           market_value   No. Observations:                 5021\n",
       "Model:                     ARMA(2, 0)   Log Likelihood              -27621.871\n",
       "Method:                       css-mle   S.D. of innovations             59.249\n",
       "Date:                Sun, 15 Aug 2021   AIC                          55251.742\n",
       "Time:                        16:19:59   BIC                          55277.827\n",
       "Sample:                    01-07-1994   HQIC                         55260.883\n",
       "                         - 04-05-2013                                         \n",
       "======================================================================================\n",
       "                         coef    std err          z      P>|z|      [0.025      0.975]\n",
       "--------------------------------------------------------------------------------------\n",
       "const               5089.6411    495.679     10.268      0.000    4118.127    6061.155\n",
       "ar.L1.market_value     0.9814      0.014     69.595      0.000       0.954       1.009\n",
       "ar.L2.market_value     0.0171      0.014      1.211      0.226      -0.011       0.045\n",
       "                                    Roots                                    \n",
       "=============================================================================\n",
       "                  Real          Imaginary           Modulus         Frequency\n",
       "-----------------------------------------------------------------------------\n",
       "AR.1            1.0015           +0.0000j            1.0015            0.0000\n",
       "AR.2          -58.4620           +0.0000j           58.4620            0.5000\n",
       "-----------------------------------------------------------------------------\n",
       "\"\"\""
      ]
     },
     "execution_count": 13,
     "metadata": {},
     "output_type": "execute_result"
    }
   ],
   "source": [
    "results_ar_2 = model_ar_2.fit()\n",
    "results_ar_2.summary()"
   ]
  },
  {
   "cell_type": "markdown",
   "id": "9c81187d",
   "metadata": {},
   "source": [
    "**NOTES**\n",
    "* **const**= C , **ar.L1.market_value**=$\\varphi_{1}$ and **ar.L2.market_value**= $\\varphi_{2}$\n",
    "* **Pvalue** for C and $\\varphi_{1}$ are 0 . So, we can safely conclude that the constant (C) and 1 lag value ($\\varphi_{1}$) are both **significantly different from zero**.<br>\n",
    "  **(The Null Hypothesis is, Coefficients are 0. As Pvalues are zero, we can reject the null hypothesis.So, the coefficients are not 0. So, they're significant)**\n",
    "  \n",
    "* **Pvalue** for $\\varphi_{2}$ is greater than 0.05 (5 percent). So,we cannot reject the null hypothesis. we can conclude that **second lag value** ($\\varphi_{2}$) is **not significantly different from zero**.Therefore, we assume it's equal to 0 in Layman's term. This means that the price two days ago do not severely affect those of today."
   ]
  },
  {
   "cell_type": "code",
   "execution_count": 14,
   "id": "0c2555ff",
   "metadata": {},
   "outputs": [
    {
     "data": {
      "text/html": [
       "<table class=\"simpletable\">\n",
       "<caption>ARMA Model Results</caption>\n",
       "<tr>\n",
       "  <th>Dep. Variable:</th>   <td>market_value</td>   <th>  No. Observations:  </th>    <td>5021</td>   \n",
       "</tr>\n",
       "<tr>\n",
       "  <th>Model:</th>            <td>ARMA(3, 0)</td>    <th>  Log Likelihood     </th> <td>-27616.019</td>\n",
       "</tr>\n",
       "<tr>\n",
       "  <th>Method:</th>             <td>css-mle</td>     <th>  S.D. of innovations</th>   <td>59.180</td>  \n",
       "</tr>\n",
       "<tr>\n",
       "  <th>Date:</th>          <td>Sun, 15 Aug 2021</td> <th>  AIC                </th>  <td>55242.038</td>\n",
       "</tr>\n",
       "<tr>\n",
       "  <th>Time:</th>              <td>16:20:00</td>     <th>  BIC                </th>  <td>55274.645</td>\n",
       "</tr>\n",
       "<tr>\n",
       "  <th>Sample:</th>           <td>01-07-1994</td>    <th>  HQIC               </th>  <td>55253.464</td>\n",
       "</tr>\n",
       "<tr>\n",
       "  <th></th>                 <td>- 04-05-2013</td>   <th>                     </th>      <td> </td>    \n",
       "</tr>\n",
       "</table>\n",
       "<table class=\"simpletable\">\n",
       "<tr>\n",
       "           <td></td>             <th>coef</th>     <th>std err</th>      <th>z</th>      <th>P>|z|</th>  <th>[0.025</th>    <th>0.975]</th>  \n",
       "</tr>\n",
       "<tr>\n",
       "  <th>const</th>              <td> 5329.9075</td> <td>  630.864</td> <td>    8.449</td> <td> 0.000</td> <td> 4093.438</td> <td> 6566.377</td>\n",
       "</tr>\n",
       "<tr>\n",
       "  <th>ar.L1.market_value</th> <td>    0.9806</td> <td>    0.014</td> <td>   69.635</td> <td> 0.000</td> <td>    0.953</td> <td>    1.008</td>\n",
       "</tr>\n",
       "<tr>\n",
       "  <th>ar.L2.market_value</th> <td>   -0.0309</td> <td>    0.020</td> <td>   -1.563</td> <td> 0.118</td> <td>   -0.070</td> <td>    0.008</td>\n",
       "</tr>\n",
       "<tr>\n",
       "  <th>ar.L3.market_value</th> <td>    0.0489</td> <td>    0.014</td> <td>    3.469</td> <td> 0.001</td> <td>    0.021</td> <td>    0.077</td>\n",
       "</tr>\n",
       "</table>\n",
       "<table class=\"simpletable\">\n",
       "<caption>Roots</caption>\n",
       "<tr>\n",
       "    <td></td>   <th>            Real</th>  <th>         Imaginary</th> <th>         Modulus</th>  <th>        Frequency</th>\n",
       "</tr>\n",
       "<tr>\n",
       "  <th>AR.1</th> <td>           1.0012</td> <td>          -0.0000j</td> <td>           1.0012</td> <td>          -0.0000</td>\n",
       "</tr>\n",
       "<tr>\n",
       "  <th>AR.2</th> <td>          -0.1853</td> <td>          -4.5142j</td> <td>           4.5180</td> <td>          -0.2565</td>\n",
       "</tr>\n",
       "<tr>\n",
       "  <th>AR.3</th> <td>          -0.1853</td> <td>          +4.5142j</td> <td>           4.5180</td> <td>           0.2565</td>\n",
       "</tr>\n",
       "</table>"
      ],
      "text/plain": [
       "<class 'statsmodels.iolib.summary.Summary'>\n",
       "\"\"\"\n",
       "                              ARMA Model Results                              \n",
       "==============================================================================\n",
       "Dep. Variable:           market_value   No. Observations:                 5021\n",
       "Model:                     ARMA(3, 0)   Log Likelihood              -27616.019\n",
       "Method:                       css-mle   S.D. of innovations             59.180\n",
       "Date:                Sun, 15 Aug 2021   AIC                          55242.038\n",
       "Time:                        16:20:00   BIC                          55274.645\n",
       "Sample:                    01-07-1994   HQIC                         55253.464\n",
       "                         - 04-05-2013                                         \n",
       "======================================================================================\n",
       "                         coef    std err          z      P>|z|      [0.025      0.975]\n",
       "--------------------------------------------------------------------------------------\n",
       "const               5329.9075    630.864      8.449      0.000    4093.438    6566.377\n",
       "ar.L1.market_value     0.9806      0.014     69.635      0.000       0.953       1.008\n",
       "ar.L2.market_value    -0.0309      0.020     -1.563      0.118      -0.070       0.008\n",
       "ar.L3.market_value     0.0489      0.014      3.469      0.001       0.021       0.077\n",
       "                                    Roots                                    \n",
       "=============================================================================\n",
       "                  Real          Imaginary           Modulus         Frequency\n",
       "-----------------------------------------------------------------------------\n",
       "AR.1            1.0012           -0.0000j            1.0012           -0.0000\n",
       "AR.2           -0.1853           -4.5142j            4.5180           -0.2565\n",
       "AR.3           -0.1853           +4.5142j            4.5180            0.2565\n",
       "-----------------------------------------------------------------------------\n",
       "\"\"\""
      ]
     },
     "execution_count": 14,
     "metadata": {},
     "output_type": "execute_result"
    }
   ],
   "source": [
    "model_ar_3 = ARMA(df.market_value, order=(3,0))\n",
    "results_ar_3 = model_ar_3.fit()\n",
    "results_ar_3.summary()"
   ]
  },
  {
   "cell_type": "code",
   "execution_count": 15,
   "id": "fdd452e9",
   "metadata": {},
   "outputs": [
    {
     "data": {
      "text/html": [
       "<table class=\"simpletable\">\n",
       "<caption>ARMA Model Results</caption>\n",
       "<tr>\n",
       "  <th>Dep. Variable:</th>   <td>market_value</td>   <th>  No. Observations:  </th>    <td>5021</td>   \n",
       "</tr>\n",
       "<tr>\n",
       "  <th>Model:</th>            <td>ARMA(4, 0)</td>    <th>  Log Likelihood     </th> <td>-27602.565</td>\n",
       "</tr>\n",
       "<tr>\n",
       "  <th>Method:</th>             <td>css-mle</td>     <th>  S.D. of innovations</th>   <td>59.022</td>  \n",
       "</tr>\n",
       "<tr>\n",
       "  <th>Date:</th>          <td>Sun, 15 Aug 2021</td> <th>  AIC                </th>  <td>55217.130</td>\n",
       "</tr>\n",
       "<tr>\n",
       "  <th>Time:</th>              <td>16:20:00</td>     <th>  BIC                </th>  <td>55256.258</td>\n",
       "</tr>\n",
       "<tr>\n",
       "  <th>Sample:</th>           <td>01-07-1994</td>    <th>  HQIC               </th>  <td>55230.841</td>\n",
       "</tr>\n",
       "<tr>\n",
       "  <th></th>                 <td>- 04-05-2013</td>   <th>                     </th>      <td> </td>    \n",
       "</tr>\n",
       "</table>\n",
       "<table class=\"simpletable\">\n",
       "<tr>\n",
       "           <td></td>             <th>coef</th>     <th>std err</th>      <th>z</th>      <th>P>|z|</th>  <th>[0.025</th>    <th>0.975]</th>  \n",
       "</tr>\n",
       "<tr>\n",
       "  <th>const</th>              <td> 5089.6411</td> <td>  559.969</td> <td>    9.089</td> <td> 0.000</td> <td> 3992.122</td> <td> 6187.160</td>\n",
       "</tr>\n",
       "<tr>\n",
       "  <th>ar.L1.market_value</th> <td>    0.9770</td> <td>    0.014</td> <td>   69.492</td> <td> 0.000</td> <td>    0.949</td> <td>    1.005</td>\n",
       "</tr>\n",
       "<tr>\n",
       "  <th>ar.L2.market_value</th> <td>   -0.0286</td> <td>    0.020</td> <td>   -1.455</td> <td> 0.146</td> <td>   -0.067</td> <td>    0.010</td>\n",
       "</tr>\n",
       "<tr>\n",
       "  <th>ar.L3.market_value</th> <td>   -0.0224</td> <td>    0.020</td> <td>   -1.135</td> <td> 0.256</td> <td>   -0.061</td> <td>    0.016</td>\n",
       "</tr>\n",
       "<tr>\n",
       "  <th>ar.L4.market_value</th> <td>    0.0728</td> <td>    0.014</td> <td>    5.166</td> <td> 0.000</td> <td>    0.045</td> <td>    0.100</td>\n",
       "</tr>\n",
       "</table>\n",
       "<table class=\"simpletable\">\n",
       "<caption>Roots</caption>\n",
       "<tr>\n",
       "    <td></td>   <th>            Real</th>  <th>         Imaginary</th> <th>         Modulus</th>  <th>        Frequency</th>\n",
       "</tr>\n",
       "<tr>\n",
       "  <th>AR.1</th> <td>           1.0011</td> <td>          -0.0000j</td> <td>           1.0011</td> <td>          -0.0000</td>\n",
       "</tr>\n",
       "<tr>\n",
       "  <th>AR.2</th> <td>           0.9550</td> <td>          -2.0884j</td> <td>           2.2964</td> <td>          -0.1817</td>\n",
       "</tr>\n",
       "<tr>\n",
       "  <th>AR.3</th> <td>           0.9550</td> <td>          +2.0884j</td> <td>           2.2964</td> <td>           0.1817</td>\n",
       "</tr>\n",
       "<tr>\n",
       "  <th>AR.4</th> <td>          -2.6036</td> <td>          -0.0000j</td> <td>           2.6036</td> <td>          -0.5000</td>\n",
       "</tr>\n",
       "</table>"
      ],
      "text/plain": [
       "<class 'statsmodels.iolib.summary.Summary'>\n",
       "\"\"\"\n",
       "                              ARMA Model Results                              \n",
       "==============================================================================\n",
       "Dep. Variable:           market_value   No. Observations:                 5021\n",
       "Model:                     ARMA(4, 0)   Log Likelihood              -27602.565\n",
       "Method:                       css-mle   S.D. of innovations             59.022\n",
       "Date:                Sun, 15 Aug 2021   AIC                          55217.130\n",
       "Time:                        16:20:00   BIC                          55256.258\n",
       "Sample:                    01-07-1994   HQIC                         55230.841\n",
       "                         - 04-05-2013                                         \n",
       "======================================================================================\n",
       "                         coef    std err          z      P>|z|      [0.025      0.975]\n",
       "--------------------------------------------------------------------------------------\n",
       "const               5089.6411    559.969      9.089      0.000    3992.122    6187.160\n",
       "ar.L1.market_value     0.9770      0.014     69.492      0.000       0.949       1.005\n",
       "ar.L2.market_value    -0.0286      0.020     -1.455      0.146      -0.067       0.010\n",
       "ar.L3.market_value    -0.0224      0.020     -1.135      0.256      -0.061       0.016\n",
       "ar.L4.market_value     0.0728      0.014      5.166      0.000       0.045       0.100\n",
       "                                    Roots                                    \n",
       "=============================================================================\n",
       "                  Real          Imaginary           Modulus         Frequency\n",
       "-----------------------------------------------------------------------------\n",
       "AR.1            1.0011           -0.0000j            1.0011           -0.0000\n",
       "AR.2            0.9550           -2.0884j            2.2964           -0.1817\n",
       "AR.3            0.9550           +2.0884j            2.2964            0.1817\n",
       "AR.4           -2.6036           -0.0000j            2.6036           -0.5000\n",
       "-----------------------------------------------------------------------------\n",
       "\"\"\""
      ]
     },
     "execution_count": 15,
     "metadata": {},
     "output_type": "execute_result"
    }
   ],
   "source": [
    "model_ar_4 = ARMA(df.market_value, order=[4,0])\n",
    "results_ar_4 = model_ar_4.fit()\n",
    "results_ar_4.summary()"
   ]
  },
  {
   "cell_type": "markdown",
   "id": "9c4c2b0c",
   "metadata": {},
   "source": [
    "## LLR Test- Log Likelyhood Ratio test\n",
    "**To find a efficient model we will use LLR test for comparison.**\n"
   ]
  },
  {
   "cell_type": "code",
   "execution_count": 16,
   "id": "0f7c4ad4",
   "metadata": {},
   "outputs": [],
   "source": [
    "#to use is over and over again ,we should define a function\n",
    "def LLR_test(mod_1, mod_2, DF=1):  # it will take two models . DF= difference in lag number\n",
    "    L1 = mod_1.fit().llf  # .llf will extract the log likelyhood value\n",
    "    L2 = mod_2.fit().llf\n",
    "    LR = (2*(L2-L1))\n",
    "    p = chi2.sf(LR, DF).round(3)\n",
    "    return p\n",
    "#based on Pvalue we will decide whether we should add more lag to the model or not."
   ]
  },
  {
   "cell_type": "markdown",
   "id": "483f19df",
   "metadata": {},
   "source": [
    "## Comparing Higher-Lag AR Models"
   ]
  },
  {
   "cell_type": "code",
   "execution_count": 17,
   "id": "611e2d88",
   "metadata": {},
   "outputs": [
    {
     "data": {
      "text/plain": [
       "0.001"
      ]
     },
     "execution_count": 17,
     "metadata": {},
     "output_type": "execute_result"
    }
   ],
   "source": [
    "LLR_test(model_ar_2, model_ar_3)  #the model with fewer lag should be at first. The lag difference is 1"
   ]
  },
  {
   "cell_type": "markdown",
   "id": "c39e5fb6",
   "metadata": {},
   "source": [
    "**NOTES:**\n",
    "* As the Pvalue is less than 0.05 (5%) , we should choose the model with higher lag (AR(3))."
   ]
  },
  {
   "cell_type": "code",
   "execution_count": 18,
   "id": "7cbe7442",
   "metadata": {},
   "outputs": [
    {
     "data": {
      "text/plain": [
       "0.0"
      ]
     },
     "execution_count": 18,
     "metadata": {},
     "output_type": "execute_result"
    }
   ],
   "source": [
    "LLR_test(model_ar_3, model_ar_4)"
   ]
  },
  {
   "cell_type": "markdown",
   "id": "249051bd",
   "metadata": {},
   "source": [
    "**NOTES:**\n",
    "* As the Pvalue is less than 0.05 (5%) , we should choose the model with higher lag (AR(4))."
   ]
  },
  {
   "cell_type": "code",
   "execution_count": 19,
   "id": "f32c4e41",
   "metadata": {},
   "outputs": [
    {
     "name": "stdout",
     "output_type": "stream",
     "text": [
      "                              ARMA Model Results                              \n",
      "==============================================================================\n",
      "Dep. Variable:           market_value   No. Observations:                 5021\n",
      "Model:                     ARMA(4, 0)   Log Likelihood              -27602.565\n",
      "Method:                       css-mle   S.D. of innovations             59.022\n",
      "Date:                Sun, 15 Aug 2021   AIC                          55217.130\n",
      "Time:                        16:20:03   BIC                          55256.258\n",
      "Sample:                    01-07-1994   HQIC                         55230.841\n",
      "                         - 04-05-2013                                         \n",
      "======================================================================================\n",
      "                         coef    std err          z      P>|z|      [0.025      0.975]\n",
      "--------------------------------------------------------------------------------------\n",
      "const               5089.6411    559.969      9.089      0.000    3992.122    6187.160\n",
      "ar.L1.market_value     0.9770      0.014     69.492      0.000       0.949       1.005\n",
      "ar.L2.market_value    -0.0286      0.020     -1.455      0.146      -0.067       0.010\n",
      "ar.L3.market_value    -0.0224      0.020     -1.135      0.256      -0.061       0.016\n",
      "ar.L4.market_value     0.0728      0.014      5.166      0.000       0.045       0.100\n",
      "                                    Roots                                    \n",
      "=============================================================================\n",
      "                  Real          Imaginary           Modulus         Frequency\n",
      "-----------------------------------------------------------------------------\n",
      "AR.1            1.0011           -0.0000j            1.0011           -0.0000\n",
      "AR.2            0.9550           -2.0884j            2.2964           -0.1817\n",
      "AR.3            0.9550           +2.0884j            2.2964            0.1817\n",
      "AR.4           -2.6036           -0.0000j            2.6036           -0.5000\n",
      "-----------------------------------------------------------------------------\n",
      "LLR test: 0.0\n"
     ]
    }
   ],
   "source": [
    "model_ar_4 = ARMA(df.market_value, order=(4,0))\n",
    "results_ar_4 = model_ar_4.fit()\n",
    "print(results_ar_4.summary()) \n",
    "print (\"LLR test: \" + str(LLR_test(model_ar_3, model_ar_4)))"
   ]
  },
  {
   "cell_type": "code",
   "execution_count": 20,
   "id": "00910691",
   "metadata": {},
   "outputs": [
    {
     "name": "stdout",
     "output_type": "stream",
     "text": [
      "                              ARMA Model Results                              \n",
      "==============================================================================\n",
      "Dep. Variable:           market_value   No. Observations:                 5021\n",
      "Model:                     ARMA(5, 0)   Log Likelihood              -27600.348\n",
      "Method:                       css-mle   S.D. of innovations             58.996\n",
      "Date:                Sun, 15 Aug 2021   AIC                          55214.697\n",
      "Time:                        16:20:06   BIC                          55260.346\n",
      "Sample:                    01-07-1994   HQIC                         55230.693\n",
      "                         - 04-05-2013                                         \n",
      "======================================================================================\n",
      "                         coef    std err          z      P>|z|      [0.025      0.975]\n",
      "--------------------------------------------------------------------------------------\n",
      "const               5089.6413    543.579      9.363      0.000    4024.247    6155.036\n",
      "ar.L1.market_value     0.9791      0.014     69.481      0.000       0.952       1.007\n",
      "ar.L2.market_value    -0.0293      0.020     -1.488      0.137      -0.068       0.009\n",
      "ar.L3.market_value    -0.0232      0.020     -1.178      0.239      -0.062       0.015\n",
      "ar.L4.market_value     0.1018      0.020      5.166      0.000       0.063       0.140\n",
      "ar.L5.market_value    -0.0297      0.014     -2.106      0.035      -0.057      -0.002\n",
      "                                    Roots                                    \n",
      "=============================================================================\n",
      "                  Real          Imaginary           Modulus         Frequency\n",
      "-----------------------------------------------------------------------------\n",
      "AR.1            1.0012           -0.0000j            1.0012           -0.0000\n",
      "AR.2           -2.0605           -0.0000j            2.0605           -0.5000\n",
      "AR.3            0.4270           -2.0763j            2.1198           -0.2177\n",
      "AR.4            0.4270           +2.0763j            2.1198            0.2177\n",
      "AR.5            3.6286           -0.0000j            3.6286           -0.0000\n",
      "-----------------------------------------------------------------------------\n",
      "LLR test: 0.035\n"
     ]
    }
   ],
   "source": [
    "#Training AR(5) model and comparing with AR(4)\n",
    "model_ar_5 = ARMA(df.market_value, order=(5,0))\n",
    "results_ar_5 = model_ar_5.fit()\n",
    "print(results_ar_5.summary()) \n",
    "print (\"LLR test: \" + str(LLR_test(model_ar_4, model_ar_5)))"
   ]
  },
  {
   "cell_type": "markdown",
   "id": "31ebd5cf",
   "metadata": {},
   "source": [
    "**NOTES:**\n",
    "* As the Pvalue is less than 0.05 (5%) , we should choose the model with higher lag (AR(5))."
   ]
  },
  {
   "cell_type": "code",
   "execution_count": 21,
   "id": "32521d4e",
   "metadata": {},
   "outputs": [
    {
     "name": "stdout",
     "output_type": "stream",
     "text": [
      "                              ARMA Model Results                              \n",
      "==============================================================================\n",
      "Dep. Variable:           market_value   No. Observations:                 5021\n",
      "Model:                     ARMA(6, 0)   Log Likelihood              -27596.474\n",
      "Method:                       css-mle   S.D. of innovations             58.950\n",
      "Date:                Sun, 15 Aug 2021   AIC                          55208.947\n",
      "Time:                        16:20:08   BIC                          55261.118\n",
      "Sample:                    01-07-1994   HQIC                         55227.229\n",
      "                         - 04-05-2013                                         \n",
      "======================================================================================\n",
      "                         coef    std err          z      P>|z|      [0.025      0.975]\n",
      "--------------------------------------------------------------------------------------\n",
      "const               5089.6415    565.204      9.005      0.000    3981.861    6197.422\n",
      "ar.L1.market_value     0.9803      0.014     69.604      0.000       0.953       1.008\n",
      "ar.L2.market_value    -0.0333      0.020     -1.687      0.092      -0.072       0.005\n",
      "ar.L3.market_value    -0.0223      0.020     -1.134      0.257      -0.061       0.016\n",
      "ar.L4.market_value     0.1029      0.020      5.227      0.000       0.064       0.141\n",
      "ar.L5.market_value    -0.0682      0.020     -3.454      0.001      -0.107      -0.029\n",
      "ar.L6.market_value     0.0393      0.014      2.785      0.005       0.012       0.067\n",
      "                                    Roots                                    \n",
      "=============================================================================\n",
      "                  Real          Imaginary           Modulus         Frequency\n",
      "-----------------------------------------------------------------------------\n",
      "AR.1            1.0011           -0.0000j            1.0011           -0.0000\n",
      "AR.2           -1.6828           -0.0000j            1.6828           -0.5000\n",
      "AR.3           -0.3031           -1.8985j            1.9226           -0.2752\n",
      "AR.4           -0.3031           +1.8985j            1.9226            0.2752\n",
      "AR.5            1.5114           -1.3426j            2.0216           -0.1156\n",
      "AR.6            1.5114           +1.3426j            2.0216            0.1156\n",
      "-----------------------------------------------------------------------------\n",
      "LLR test: 0.005\n"
     ]
    }
   ],
   "source": [
    "#Training AR(6) model and comparing with AR(5)\n",
    "model_ar_6 = ARMA(df.market_value, order=(6,0))\n",
    "results_ar_6 = model_ar_6.fit()\n",
    "print(results_ar_6.summary()) \n",
    "print (\"LLR test: \" + str(LLR_test(model_ar_5, model_ar_6)))"
   ]
  },
  {
   "cell_type": "markdown",
   "id": "885c7281",
   "metadata": {},
   "source": [
    "**NOTES:**\n",
    "* As the Pvalue is less than 0.05 (5%) , we should choose the model with higher lag (AR(6))."
   ]
  },
  {
   "cell_type": "code",
   "execution_count": 22,
   "id": "4a3121f5",
   "metadata": {},
   "outputs": [
    {
     "name": "stdout",
     "output_type": "stream",
     "text": [
      "                              ARMA Model Results                              \n",
      "==============================================================================\n",
      "Dep. Variable:           market_value   No. Observations:                 5021\n",
      "Model:                     ARMA(7, 0)   Log Likelihood              -27591.900\n",
      "Method:                       css-mle   S.D. of innovations             58.896\n",
      "Date:                Sun, 15 Aug 2021   AIC                          55201.799\n",
      "Time:                        16:20:11   BIC                          55260.492\n",
      "Sample:                    01-07-1994   HQIC                         55222.366\n",
      "                         - 04-05-2013                                         \n",
      "======================================================================================\n",
      "                         coef    std err          z      P>|z|      [0.025      0.975]\n",
      "--------------------------------------------------------------------------------------\n",
      "const               5089.6413    589.606      8.632      0.000    3934.035    6245.247\n",
      "ar.L1.market_value     0.9786      0.014     69.518      0.000       0.951       1.006\n",
      "ar.L2.market_value    -0.0304      0.020     -1.540      0.124      -0.069       0.008\n",
      "ar.L3.market_value    -0.0267      0.020     -1.354      0.176      -0.065       0.012\n",
      "ar.L4.market_value     0.1038      0.020      5.279      0.000       0.065       0.142\n",
      "ar.L5.market_value    -0.0668      0.020     -3.385      0.001      -0.105      -0.028\n",
      "ar.L6.market_value    -0.0025      0.020     -0.127      0.899      -0.041       0.036\n",
      "ar.L7.market_value     0.0427      0.014      3.026      0.002       0.015       0.070\n",
      "                                    Roots                                    \n",
      "=============================================================================\n",
      "                  Real          Imaginary           Modulus         Frequency\n",
      "-----------------------------------------------------------------------------\n",
      "AR.1            1.0010           -0.0000j            1.0010           -0.0000\n",
      "AR.2            1.3301           -0.9296j            1.6228           -0.0971\n",
      "AR.3            1.3301           +0.9296j            1.6228            0.0971\n",
      "AR.4           -0.0400           -1.5870j            1.5875           -0.2540\n",
      "AR.5           -0.0400           +1.5870j            1.5875            0.2540\n",
      "AR.6           -1.7611           -0.6517j            1.8778           -0.4436\n",
      "AR.7           -1.7611           +0.6517j            1.8778            0.4436\n",
      "-----------------------------------------------------------------------------\n",
      "LLR test: 0.002\n"
     ]
    }
   ],
   "source": [
    "#Training AR(7) model and comparing with AR(6)\n",
    "model_ar_7 = ARMA(df.market_value, order=(7,0))\n",
    "results_ar_7 = model_ar_7.fit()\n",
    "print(results_ar_7.summary()) \n",
    "print (\"LLR test: \" + str(LLR_test(model_ar_6, model_ar_7)))"
   ]
  },
  {
   "cell_type": "code",
   "execution_count": 23,
   "id": "2b8db468",
   "metadata": {},
   "outputs": [
    {
     "name": "stdout",
     "output_type": "stream",
     "text": [
      "                              ARMA Model Results                              \n",
      "==============================================================================\n",
      "Dep. Variable:           market_value   No. Observations:                 5021\n",
      "Model:                     ARMA(8, 0)   Log Likelihood              -27591.739\n",
      "Method:                       css-mle   S.D. of innovations             58.894\n",
      "Date:                Sun, 15 Aug 2021   AIC                          55203.478\n",
      "Time:                        16:20:16   BIC                          55268.692\n",
      "Sample:                    01-07-1994   HQIC                         55226.329\n",
      "                         - 04-05-2013                                         \n",
      "======================================================================================\n",
      "                         coef    std err          z      P>|z|      [0.025      0.975]\n",
      "--------------------------------------------------------------------------------------\n",
      "const               5089.6415    584.992      8.700      0.000    3943.079    6236.204\n",
      "ar.L1.market_value     0.9790      0.014     69.476      0.000       0.951       1.007\n",
      "ar.L2.market_value    -0.0304      0.020     -1.541      0.123      -0.069       0.008\n",
      "ar.L3.market_value    -0.0272      0.020     -1.379      0.168      -0.066       0.011\n",
      "ar.L4.market_value     0.1047      0.020      5.306      0.000       0.066       0.143\n",
      "ar.L5.market_value    -0.0670      0.020     -3.395      0.001      -0.106      -0.028\n",
      "ar.L6.market_value    -0.0028      0.020     -0.139      0.889      -0.041       0.036\n",
      "ar.L7.market_value     0.0505      0.020      2.559      0.010       0.012       0.089\n",
      "ar.L8.market_value    -0.0080      0.014     -0.567      0.571      -0.036       0.020\n",
      "                                    Roots                                    \n",
      "=============================================================================\n",
      "                  Real          Imaginary           Modulus         Frequency\n",
      "-----------------------------------------------------------------------------\n",
      "AR.1            1.0010           -0.0000j            1.0010           -0.0000\n",
      "AR.2           -1.6223           -0.6323j            1.7412           -0.4409\n",
      "AR.3           -1.6223           +0.6323j            1.7412            0.4409\n",
      "AR.4           -0.0911           -1.5626j            1.5653           -0.2593\n",
      "AR.5           -0.0911           +1.5626j            1.5653            0.2593\n",
      "AR.6            1.3256           -1.0019j            1.6616           -0.1030\n",
      "AR.7            1.3256           +1.0019j            1.6616            0.1030\n",
      "AR.8            6.0864           -0.0000j            6.0864           -0.0000\n",
      "-----------------------------------------------------------------------------\n",
      "LLR test: 0.571\n"
     ]
    }
   ],
   "source": [
    "#Training AR(8) model and comparing with AR(7)\n",
    "model_ar_8 = ARMA(df.market_value, order=(8,0))\n",
    "results_ar_8 = model_ar_8.fit()\n",
    "print(results_ar_8.summary()) \n",
    "print (\"LLR test: \" + str(LLR_test(model_ar_7, model_ar_8)))"
   ]
  },
  {
   "cell_type": "markdown",
   "id": "0f2f49fc",
   "metadata": {},
   "source": [
    "**NOTES:**\n",
    "* As the Pvalue is greater than 0.05 (5%) , we shouldn't choose the model with higher lag (AR(8)). So, we will stick to AR(7) model."
   ]
  },
  {
   "cell_type": "code",
   "execution_count": 24,
   "id": "a1b12290",
   "metadata": {},
   "outputs": [
    {
     "name": "stdout",
     "output_type": "stream",
     "text": [
      "LLR test: 0.0\n"
     ]
    }
   ],
   "source": [
    "#checking if adding 6 additional lag worth it\n",
    "print (\"LLR test: \" + str(LLR_test(model_ar, model_ar_7,DF=6)))  #lag difference 6"
   ]
  },
  {
   "cell_type": "markdown",
   "id": "37d86e0d",
   "metadata": {},
   "source": [
    "**NOTES:**\n",
    "* As the Pvalue is less than 0.05 (5%) , we should choose the model with higher lag (AR(7)).\n",
    "\n",
    "**Overall summarization**:\n",
    "* The AR(1) model served as a better predictor than AR(2) model. But higher lag model (upto AR(7)) outperformed it even with several non significant coefficients.\n",
    "* It seemed that **the more lag we introduce the better our model becomes** . This is often the case when **using AR models to predict non stationary data**.\n",
    "* To avoid such issues **we should use stationary time series for AR models**."
   ]
  },
  {
   "cell_type": "markdown",
   "id": "859bcf6f",
   "metadata": {},
   "source": [
    "## The DF-Test \n",
    "**Checking for stationarity**"
   ]
  },
  {
   "cell_type": "code",
   "execution_count": 25,
   "id": "c6838222",
   "metadata": {},
   "outputs": [
    {
     "data": {
      "text/plain": [
       "(-1.9041551418836873,\n",
       " 0.330108932770283,\n",
       " 6,\n",
       " 5014,\n",
       " {'1%': -3.4316548765428174,\n",
       "  '5%': -2.8621166146845334,\n",
       "  '10%': -2.5670769326348926},\n",
       " 54854.15304507557)"
      ]
     },
     "execution_count": 25,
     "metadata": {},
     "output_type": "execute_result"
    }
   ],
   "source": [
    "sts.adfuller(df.market_value)"
   ]
  },
  {
   "cell_type": "markdown",
   "id": "c79827f3",
   "metadata": {},
   "source": [
    "**NOTES**\n",
    "* Null hypothesis is the dataset is Non-stationary\n",
    "* Test statistics > critical values. So, we can't reject Null Hypothesis.\n",
    "* The Pvalue says there in 33% (greater than 5%) chance of not rejecting the Null Hypothesis.\n",
    "\n",
    "**So we failed to reject Null Hypothesis. So, the dataset is Non-stationary.<br>\n",
    "As the dataset is Non-stationary, we shouldn't use AR model on this dataset for prediction. <br>\n",
    "We can solve this by transforming the dataset so that it fits \"stationary\" assumptions.**"
   ]
  },
  {
   "cell_type": "code",
   "execution_count": null,
   "id": "b4400911",
   "metadata": {},
   "outputs": [],
   "source": []
  },
  {
   "cell_type": "code",
   "execution_count": null,
   "id": "bdfeccd1",
   "metadata": {},
   "outputs": [],
   "source": []
  },
  {
   "cell_type": "code",
   "execution_count": null,
   "id": "575d8899",
   "metadata": {},
   "outputs": [],
   "source": []
  },
  {
   "cell_type": "markdown",
   "id": "9251534a",
   "metadata": {},
   "source": [
    "# Using Returns\n",
    "* The percentage change between the values for two consecutive periods.\n",
    "* r>0 means positive return. r<0 means negative returns\n",
    "* creating return out of prices $$\\frac{P_{t}-P_{t-1}}{P_{t-1}}*100\\%$$"
   ]
  },
  {
   "cell_type": "code",
   "execution_count": 26,
   "id": "aaa2db12",
   "metadata": {},
   "outputs": [],
   "source": [
    "df.market_value.pct_change?\n",
    "#for period=1, it compared value with last period"
   ]
  },
  {
   "cell_type": "code",
   "execution_count": 27,
   "id": "368af9d4",
   "metadata": {},
   "outputs": [
    {
     "data": {
      "text/plain": [
       "date\n",
       "1994-01-07         NaN\n",
       "1994-01-10   -0.156704\n",
       "1994-01-11   -0.779229\n",
       "1994-01-12   -1.222988\n",
       "1994-01-13   -0.356166\n",
       "                ...   \n",
       "2013-04-01    0.000000\n",
       "2013-04-02    1.230867\n",
       "2013-04-03   -1.084327\n",
       "2013-04-04   -1.186397\n",
       "2013-04-05   -1.487049\n",
       "Freq: B, Name: market_value, Length: 5021, dtype: float64"
      ]
     },
     "execution_count": 27,
     "metadata": {},
     "output_type": "execute_result"
    }
   ],
   "source": [
    "df.market_value.pct_change(1).mul(100) #multiplying by 100 to get the percentage value."
   ]
  },
  {
   "cell_type": "markdown",
   "id": "636788fc",
   "metadata": {},
   "source": [
    "**The value for first period is NaN because there is no period before it.**"
   ]
  },
  {
   "cell_type": "code",
   "execution_count": 28,
   "id": "78f5b804",
   "metadata": {},
   "outputs": [],
   "source": [
    "df['returns'] = df.market_value.pct_change(1).mul(100)\n",
    "df = df.iloc[1:] #dropping the first row with NaN value"
   ]
  },
  {
   "cell_type": "code",
   "execution_count": 29,
   "id": "83cce27f",
   "metadata": {},
   "outputs": [
    {
     "data": {
      "text/plain": [
       "(-12.770265719497202,\n",
       " 7.798058336039616e-24,\n",
       " 32,\n",
       " 4987,\n",
       " {'1%': -3.431661944885779,\n",
       "  '5%': -2.8621197374408225,\n",
       "  '10%': -2.5670785949998973},\n",
       " 15696.7672456975)"
      ]
     },
     "execution_count": 29,
     "metadata": {},
     "output_type": "execute_result"
    }
   ],
   "source": [
    "#let's check stationarity of the dataset\n",
    "sts.adfuller(df.returns)"
   ]
  },
  {
   "cell_type": "markdown",
   "id": "44e12c75",
   "metadata": {},
   "source": [
    "**NOTES**\n",
    "* Null hypothesis is the dataset is Non-stationary.\n",
    "* Test statistics < critical values. So, we can reject Null Hypothesis.\n",
    "* The Pvalue is so small. Pvalue << 5%. So, we can reject Null Hypothesis.\n",
    "\n",
    "**So, we reject Null Hypothesis. The dataset is Stationary**"
   ]
  },
  {
   "cell_type": "markdown",
   "id": "044b55ef",
   "metadata": {},
   "source": [
    "## ACF and PACF for Returns"
   ]
  },
  {
   "cell_type": "code",
   "execution_count": 30,
   "id": "2492c60d",
   "metadata": {},
   "outputs": [
    {
     "data": {
      "image/png": "[encoded data removed]",
      "text/plain": [
       "<Figure size 432x288 with 1 Axes>"
      ]
     },
     "metadata": {},
     "output_type": "display_data"
    }
   ],
   "source": [
    "sgt.plot_acf(df.returns, lags=40, zero = False)\n",
    "plt.title(\"ACF S&P Returns\", size=24)\n",
    "plt.show()"
   ]
  },
  {
   "cell_type": "markdown",
   "id": "71f0e514",
   "metadata": {},
   "source": [
    "**NOTES:**\n",
    "* Not all coefficients are positive or significant.\n",
    "* Values greatly varies in magnitude instead of all being close to 1.\n",
    "* By the looks of it, the first several lags are of great importance since they're significant but their coefficients are negative (with the exception of 4th lag). This points to **a trend where consecutive values move in different directions**.\n",
    "* The further back we go (increase in lag number) the less relevent (significant) the coefficient values should be."
   ]
  },
  {
   "cell_type": "code",
   "execution_count": 31,
   "id": "7183b7b9",
   "metadata": {},
   "outputs": [
    {
     "data": {
      "image/png": "[encoded data removed]",
      "text/plain": [
       "<Figure size 432x288 with 1 Axes>"
      ]
     },
     "metadata": {},
     "output_type": "display_data"
    }
   ],
   "source": [
    "sgt.plot_pacf(df.returns, lags = 40, zero = False, method = ('ols'))\n",
    "plt.title(\"PACF S&P Returns\", size=24)\n",
    "plt.show()"
   ]
  },
  {
   "cell_type": "markdown",
   "id": "e2839b42",
   "metadata": {},
   "source": [
    "## AR(1) for Returns"
   ]
  },
  {
   "cell_type": "code",
   "execution_count": 32,
   "id": "0c15e8ca",
   "metadata": {},
   "outputs": [],
   "source": [
    "model_ret_ar_1 = ARMA(df.returns, order = (1,0))"
   ]
  },
  {
   "cell_type": "code",
   "execution_count": 33,
   "id": "bebcb4d7",
   "metadata": {},
   "outputs": [],
   "source": [
    "results_ret_ar_1 = model_ret_ar_1.fit()"
   ]
  },
  {
   "cell_type": "code",
   "execution_count": 34,
   "id": "d66fe874",
   "metadata": {},
   "outputs": [
    {
     "data": {
      "text/html": [
       "<table class=\"simpletable\">\n",
       "<caption>ARMA Model Results</caption>\n",
       "<tr>\n",
       "  <th>Dep. Variable:</th>      <td>returns</td>     <th>  No. Observations:  </th>   <td>5020</td>   \n",
       "</tr>\n",
       "<tr>\n",
       "  <th>Model:</th>            <td>ARMA(1, 0)</td>    <th>  Log Likelihood     </th> <td>-7929.749</td>\n",
       "</tr>\n",
       "<tr>\n",
       "  <th>Method:</th>             <td>css-mle</td>     <th>  S.D. of innovations</th>   <td>1.174</td>  \n",
       "</tr>\n",
       "<tr>\n",
       "  <th>Date:</th>          <td>Sun, 15 Aug 2021</td> <th>  AIC                </th> <td>15865.497</td>\n",
       "</tr>\n",
       "<tr>\n",
       "  <th>Time:</th>              <td>16:20:22</td>     <th>  BIC                </th> <td>15885.061</td>\n",
       "</tr>\n",
       "<tr>\n",
       "  <th>Sample:</th>           <td>01-10-1994</td>    <th>  HQIC               </th> <td>15872.353</td>\n",
       "</tr>\n",
       "<tr>\n",
       "  <th></th>                 <td>- 04-05-2013</td>   <th>                     </th>     <td> </td>    \n",
       "</tr>\n",
       "</table>\n",
       "<table class=\"simpletable\">\n",
       "<tr>\n",
       "        <td></td>           <th>coef</th>     <th>std err</th>      <th>z</th>      <th>P>|z|</th>  <th>[0.025</th>    <th>0.975]</th>  \n",
       "</tr>\n",
       "<tr>\n",
       "  <th>const</th>         <td>    0.0188</td> <td>    0.016</td> <td>    1.159</td> <td> 0.247</td> <td>   -0.013</td> <td>    0.051</td>\n",
       "</tr>\n",
       "<tr>\n",
       "  <th>ar.L1.returns</th> <td>   -0.0230</td> <td>    0.014</td> <td>   -1.631</td> <td> 0.103</td> <td>   -0.051</td> <td>    0.005</td>\n",
       "</tr>\n",
       "</table>\n",
       "<table class=\"simpletable\">\n",
       "<caption>Roots</caption>\n",
       "<tr>\n",
       "    <td></td>   <th>            Real</th>  <th>         Imaginary</th> <th>         Modulus</th>  <th>        Frequency</th>\n",
       "</tr>\n",
       "<tr>\n",
       "  <th>AR.1</th> <td>         -43.4387</td> <td>          +0.0000j</td> <td>          43.4387</td> <td>           0.5000</td>\n",
       "</tr>\n",
       "</table>"
      ],
      "text/plain": [
       "<class 'statsmodels.iolib.summary.Summary'>\n",
       "\"\"\"\n",
       "                              ARMA Model Results                              \n",
       "==============================================================================\n",
       "Dep. Variable:                returns   No. Observations:                 5020\n",
       "Model:                     ARMA(1, 0)   Log Likelihood               -7929.749\n",
       "Method:                       css-mle   S.D. of innovations              1.174\n",
       "Date:                Sun, 15 Aug 2021   AIC                          15865.497\n",
       "Time:                        16:20:22   BIC                          15885.061\n",
       "Sample:                    01-10-1994   HQIC                         15872.353\n",
       "                         - 04-05-2013                                         \n",
       "=================================================================================\n",
       "                    coef    std err          z      P>|z|      [0.025      0.975]\n",
       "---------------------------------------------------------------------------------\n",
       "const             0.0188      0.016      1.159      0.247      -0.013       0.051\n",
       "ar.L1.returns    -0.0230      0.014     -1.631      0.103      -0.051       0.005\n",
       "                                    Roots                                    \n",
       "=============================================================================\n",
       "                  Real          Imaginary           Modulus         Frequency\n",
       "-----------------------------------------------------------------------------\n",
       "AR.1          -43.4387           +0.0000j           43.4387            0.5000\n",
       "-----------------------------------------------------------------------------\n",
       "\"\"\""
      ]
     },
     "execution_count": 34,
     "metadata": {},
     "output_type": "execute_result"
    }
   ],
   "source": [
    "results_ret_ar_1.summary()"
   ]
  },
  {
   "cell_type": "markdown",
   "id": "9bc3f5c2",
   "metadata": {},
   "source": [
    "**NOTES:**\n",
    "* Null Hypothesis is the coefficients are insignificant (0).\n",
    "* Pvalue is greater than 0.05 (5%). Can't reject Null Hypothesis. Neither of the coefficients are significantly different from Zero. So, we can assume that they are zero."
   ]
  },
  {
   "cell_type": "markdown",
   "id": "55e493a8",
   "metadata": {},
   "source": [
    "## Higher-Lag AR Models for Returns"
   ]
  },
  {
   "cell_type": "code",
   "execution_count": 35,
   "id": "7591f49b",
   "metadata": {},
   "outputs": [
    {
     "data": {
      "text/html": [
       "<table class=\"simpletable\">\n",
       "<caption>ARMA Model Results</caption>\n",
       "<tr>\n",
       "  <th>Dep. Variable:</th>      <td>returns</td>     <th>  No. Observations:  </th>   <td>5020</td>   \n",
       "</tr>\n",
       "<tr>\n",
       "  <th>Model:</th>            <td>ARMA(2, 0)</td>    <th>  Log Likelihood     </th> <td>-7923.456</td>\n",
       "</tr>\n",
       "<tr>\n",
       "  <th>Method:</th>             <td>css-mle</td>     <th>  S.D. of innovations</th>   <td>1.173</td>  \n",
       "</tr>\n",
       "<tr>\n",
       "  <th>Date:</th>          <td>Sun, 15 Aug 2021</td> <th>  AIC                </th> <td>15854.911</td>\n",
       "</tr>\n",
       "<tr>\n",
       "  <th>Time:</th>              <td>16:20:22</td>     <th>  BIC                </th> <td>15880.996</td>\n",
       "</tr>\n",
       "<tr>\n",
       "  <th>Sample:</th>           <td>01-10-1994</td>    <th>  HQIC               </th> <td>15864.052</td>\n",
       "</tr>\n",
       "<tr>\n",
       "  <th></th>                 <td>- 04-05-2013</td>   <th>                     </th>     <td> </td>    \n",
       "</tr>\n",
       "</table>\n",
       "<table class=\"simpletable\">\n",
       "<tr>\n",
       "        <td></td>           <th>coef</th>     <th>std err</th>      <th>z</th>      <th>P>|z|</th>  <th>[0.025</th>    <th>0.975]</th>  \n",
       "</tr>\n",
       "<tr>\n",
       "  <th>const</th>         <td>    0.0188</td> <td>    0.015</td> <td>    1.220</td> <td> 0.222</td> <td>   -0.011</td> <td>    0.049</td>\n",
       "</tr>\n",
       "<tr>\n",
       "  <th>ar.L1.returns</th> <td>   -0.0242</td> <td>    0.014</td> <td>   -1.716</td> <td> 0.086</td> <td>   -0.052</td> <td>    0.003</td>\n",
       "</tr>\n",
       "<tr>\n",
       "  <th>ar.L2.returns</th> <td>   -0.0500</td> <td>    0.014</td> <td>   -3.550</td> <td> 0.000</td> <td>   -0.078</td> <td>   -0.022</td>\n",
       "</tr>\n",
       "</table>\n",
       "<table class=\"simpletable\">\n",
       "<caption>Roots</caption>\n",
       "<tr>\n",
       "    <td></td>   <th>            Real</th>  <th>         Imaginary</th> <th>         Modulus</th>  <th>        Frequency</th>\n",
       "</tr>\n",
       "<tr>\n",
       "  <th>AR.1</th> <td>          -0.2417</td> <td>          -4.4635j</td> <td>           4.4701</td> <td>          -0.2586</td>\n",
       "</tr>\n",
       "<tr>\n",
       "  <th>AR.2</th> <td>          -0.2417</td> <td>          +4.4635j</td> <td>           4.4701</td> <td>           0.2586</td>\n",
       "</tr>\n",
       "</table>"
      ],
      "text/plain": [
       "<class 'statsmodels.iolib.summary.Summary'>\n",
       "\"\"\"\n",
       "                              ARMA Model Results                              \n",
       "==============================================================================\n",
       "Dep. Variable:                returns   No. Observations:                 5020\n",
       "Model:                     ARMA(2, 0)   Log Likelihood               -7923.456\n",
       "Method:                       css-mle   S.D. of innovations              1.173\n",
       "Date:                Sun, 15 Aug 2021   AIC                          15854.911\n",
       "Time:                        16:20:22   BIC                          15880.996\n",
       "Sample:                    01-10-1994   HQIC                         15864.052\n",
       "                         - 04-05-2013                                         \n",
       "=================================================================================\n",
       "                    coef    std err          z      P>|z|      [0.025      0.975]\n",
       "---------------------------------------------------------------------------------\n",
       "const             0.0188      0.015      1.220      0.222      -0.011       0.049\n",
       "ar.L1.returns    -0.0242      0.014     -1.716      0.086      -0.052       0.003\n",
       "ar.L2.returns    -0.0500      0.014     -3.550      0.000      -0.078      -0.022\n",
       "                                    Roots                                    \n",
       "=============================================================================\n",
       "                  Real          Imaginary           Modulus         Frequency\n",
       "-----------------------------------------------------------------------------\n",
       "AR.1           -0.2417           -4.4635j            4.4701           -0.2586\n",
       "AR.2           -0.2417           +4.4635j            4.4701            0.2586\n",
       "-----------------------------------------------------------------------------\n",
       "\"\"\""
      ]
     },
     "execution_count": 35,
     "metadata": {},
     "output_type": "execute_result"
    }
   ],
   "source": [
    "model_ret_ar_2 = ARMA(df.returns, order = (2,0))\n",
    "results_ret_ar_2 = model_ret_ar_2.fit()\n",
    "results_ret_ar_2.summary()"
   ]
  },
  {
   "cell_type": "code",
   "execution_count": 36,
   "id": "d60e84ba",
   "metadata": {},
   "outputs": [
    {
     "data": {
      "text/plain": [
       "0.0"
      ]
     },
     "execution_count": 36,
     "metadata": {},
     "output_type": "execute_result"
    }
   ],
   "source": [
    "LLR_test(model_ret_ar_1, model_ret_ar_2)"
   ]
  },
  {
   "cell_type": "markdown",
   "id": "346e9cb8",
   "metadata": {},
   "source": [
    "**AS the Pvalue is less than 5%, we should choose model with higher lag values (AR(2)).**"
   ]
  },
  {
   "cell_type": "code",
   "execution_count": 37,
   "id": "4ffbffbb",
   "metadata": {},
   "outputs": [
    {
     "name": "stdout",
     "output_type": "stream",
     "text": [
      "                              ARMA Model Results                              \n",
      "==============================================================================\n",
      "Dep. Variable:                returns   No. Observations:                 5020\n",
      "Model:                     ARMA(3, 0)   Log Likelihood               -7906.738\n",
      "Method:                       css-mle   S.D. of innovations              1.169\n",
      "Date:                Sun, 15 Aug 2021   AIC                          15823.477\n",
      "Time:                        16:20:23   BIC                          15856.083\n",
      "Sample:                    01-10-1994   HQIC                         15834.902\n",
      "                         - 04-05-2013                                         \n",
      "=================================================================================\n",
      "                    coef    std err          z      P>|z|      [0.025      0.975]\n",
      "---------------------------------------------------------------------------------\n",
      "const             0.0189      0.014      1.330      0.184      -0.009       0.047\n",
      "ar.L1.returns    -0.0283      0.014     -2.011      0.044      -0.056      -0.001\n",
      "ar.L2.returns    -0.0521      0.014     -3.705      0.000      -0.080      -0.025\n",
      "ar.L3.returns    -0.0815      0.014     -5.792      0.000      -0.109      -0.054\n",
      "                                    Roots                                    \n",
      "=============================================================================\n",
      "                  Real          Imaginary           Modulus         Frequency\n",
      "-----------------------------------------------------------------------------\n",
      "AR.1            0.9233           -2.0210j            2.2219           -0.1818\n",
      "AR.2            0.9233           +2.0210j            2.2219            0.1818\n",
      "AR.3           -2.4855           -0.0000j            2.4855           -0.5000\n",
      "-----------------------------------------------------------------------------\n",
      "LLR test: 0.0\n"
     ]
    }
   ],
   "source": [
    "model_ret_ar_3 = ARMA(df.returns, order = (3,0))\n",
    "results_ret_ar_3 = model_ret_ar_3.fit()\n",
    "print(results_ret_ar_3.summary())\n",
    "print (\"LLR test: \" + str(LLR_test(model_ret_ar_2, model_ret_ar_3)))"
   ]
  },
  {
   "cell_type": "markdown",
   "id": "34d175bd",
   "metadata": {},
   "source": [
    "**AS the Pvalue is less than 5%, we should choose model with higher lag values (AR(3)).**"
   ]
  },
  {
   "cell_type": "code",
   "execution_count": 38,
   "id": "532c1292",
   "metadata": {},
   "outputs": [
    {
     "name": "stdout",
     "output_type": "stream",
     "text": [
      "                              ARMA Model Results                              \n",
      "==============================================================================\n",
      "Dep. Variable:                returns   No. Observations:                 5020\n",
      "Model:                     ARMA(4, 0)   Log Likelihood               -7901.330\n",
      "Method:                       css-mle   S.D. of innovations              1.168\n",
      "Date:                Sun, 15 Aug 2021   AIC                          15814.661\n",
      "Time:                        16:20:23   BIC                          15853.788\n",
      "Sample:                    01-10-1994   HQIC                         15828.371\n",
      "                         - 04-05-2013                                         \n",
      "=================================================================================\n",
      "                    coef    std err          z      P>|z|      [0.025      0.975]\n",
      "---------------------------------------------------------------------------------\n",
      "const             0.0188      0.015      1.267      0.205      -0.010       0.048\n",
      "ar.L1.returns    -0.0245      0.014     -1.739      0.082      -0.052       0.003\n",
      "ar.L2.returns    -0.0496      0.014     -3.531      0.000      -0.077      -0.022\n",
      "ar.L3.returns    -0.0802      0.014     -5.701      0.000      -0.108      -0.053\n",
      "ar.L4.returns     0.0464      0.014      3.291      0.001       0.019       0.074\n",
      "                                    Roots                                    \n",
      "=============================================================================\n",
      "                  Real          Imaginary           Modulus         Frequency\n",
      "-----------------------------------------------------------------------------\n",
      "AR.1           -1.8888           -0.0000j            1.8888           -0.5000\n",
      "AR.2            0.3231           -1.9331j            1.9599           -0.2236\n",
      "AR.3            0.3231           +1.9331j            1.9599            0.2236\n",
      "AR.4            2.9701           -0.0000j            2.9701           -0.0000\n",
      "-----------------------------------------------------------------------------\n",
      "LLR test: 0.001\n"
     ]
    }
   ],
   "source": [
    "model_ret_ar_4 = ARMA(df.returns, order = (4,0))\n",
    "results_ret_ar_4 = model_ret_ar_4.fit()\n",
    "print(results_ret_ar_4.summary())\n",
    "print (\"LLR test: \" + str(LLR_test(model_ret_ar_3, model_ret_ar_4)))"
   ]
  },
  {
   "cell_type": "markdown",
   "id": "8201a849",
   "metadata": {},
   "source": [
    "**AS the Pvalue is less than 5%, we should choose model with higher lag values (AR(4)).**"
   ]
  },
  {
   "cell_type": "code",
   "execution_count": 39,
   "id": "3f571eb0",
   "metadata": {},
   "outputs": [
    {
     "name": "stdout",
     "output_type": "stream",
     "text": [
      "                              ARMA Model Results                              \n",
      "==============================================================================\n",
      "Dep. Variable:                returns   No. Observations:                 5020\n",
      "Model:                     ARMA(5, 0)   Log Likelihood               -7892.390\n",
      "Method:                       css-mle   S.D. of innovations              1.166\n",
      "Date:                Sun, 15 Aug 2021   AIC                          15798.779\n",
      "Time:                        16:20:24   BIC                          15844.428\n",
      "Sample:                    01-10-1994   HQIC                         15814.775\n",
      "                         - 04-05-2013                                         \n",
      "=================================================================================\n",
      "                    coef    std err          z      P>|z|      [0.025      0.975]\n",
      "---------------------------------------------------------------------------------\n",
      "const             0.0189      0.014      1.348      0.178      -0.009       0.046\n",
      "ar.L1.returns    -0.0217      0.014     -1.544      0.123      -0.049       0.006\n",
      "ar.L2.returns    -0.0544      0.014     -3.865      0.000      -0.082      -0.027\n",
      "ar.L3.returns    -0.0831      0.014     -5.914      0.000      -0.111      -0.056\n",
      "ar.L4.returns     0.0449      0.014      3.190      0.001       0.017       0.073\n",
      "ar.L5.returns    -0.0596      0.014     -4.232      0.000      -0.087      -0.032\n",
      "                                    Roots                                    \n",
      "=============================================================================\n",
      "                  Real          Imaginary           Modulus         Frequency\n",
      "-----------------------------------------------------------------------------\n",
      "AR.1           -1.5481           -0.0000j            1.5481           -0.5000\n",
      "AR.2           -0.2860           -1.7252j            1.7487           -0.2761\n",
      "AR.3           -0.2860           +1.7252j            1.7487            0.2761\n",
      "AR.4            1.4366           -1.2157j            1.8819           -0.1118\n",
      "AR.5            1.4366           +1.2157j            1.8819            0.1118\n",
      "-----------------------------------------------------------------------------\n",
      "LLR test: 0.0\n"
     ]
    }
   ],
   "source": [
    "model_ret_ar_5 = ARMA(df.returns, order = (5,0))\n",
    "results_ret_ar_5 = model_ret_ar_5.fit()\n",
    "print(results_ret_ar_5.summary())\n",
    "print (\"LLR test: \" + str(LLR_test(model_ret_ar_4, model_ret_ar_5)))"
   ]
  },
  {
   "cell_type": "markdown",
   "id": "c3002640",
   "metadata": {},
   "source": [
    "**AS the Pvalue is less than 5%, we should choose model with higher lag values (AR(5)).**"
   ]
  },
  {
   "cell_type": "code",
   "execution_count": 40,
   "id": "0bb966a0",
   "metadata": {},
   "outputs": [
    {
     "name": "stdout",
     "output_type": "stream",
     "text": [
      "                              ARMA Model Results                              \n",
      "==============================================================================\n",
      "Dep. Variable:                returns   No. Observations:                 5020\n",
      "Model:                     ARMA(6, 0)   Log Likelihood               -7886.945\n",
      "Method:                       css-mle   S.D. of innovations              1.164\n",
      "Date:                Sun, 15 Aug 2021   AIC                          15789.890\n",
      "Time:                        16:20:25   BIC                          15842.059\n",
      "Sample:                    01-10-1994   HQIC                         15808.170\n",
      "                         - 04-05-2013                                         \n",
      "=================================================================================\n",
      "                    coef    std err          z      P>|z|      [0.025      0.975]\n",
      "---------------------------------------------------------------------------------\n",
      "const             0.0189      0.013      1.414      0.157      -0.007       0.045\n",
      "ar.L1.returns    -0.0245      0.014     -1.740      0.082      -0.052       0.003\n",
      "ar.L2.returns    -0.0523      0.014     -3.716      0.000      -0.080      -0.025\n",
      "ar.L3.returns    -0.0870      0.014     -6.174      0.000      -0.115      -0.059\n",
      "ar.L4.returns     0.0424      0.014      3.009      0.003       0.015       0.070\n",
      "ar.L5.returns    -0.0607      0.014     -4.309      0.000      -0.088      -0.033\n",
      "ar.L6.returns    -0.0466      0.014     -3.302      0.001      -0.074      -0.019\n",
      "                                    Roots                                    \n",
      "=============================================================================\n",
      "                  Real          Imaginary           Modulus         Frequency\n",
      "-----------------------------------------------------------------------------\n",
      "AR.1            1.2869           -0.9022j            1.5716           -0.0973\n",
      "AR.2            1.2869           +0.9022j            1.5716            0.0973\n",
      "AR.3           -0.0727           -1.5282j            1.5299           -0.2576\n",
      "AR.4           -0.0727           +1.5282j            1.5299            0.2576\n",
      "AR.5           -1.8659           -0.4836j            1.9275           -0.4596\n",
      "AR.6           -1.8659           +0.4836j            1.9275            0.4596\n",
      "-----------------------------------------------------------------------------\n",
      "LLR test: 0.001\n"
     ]
    }
   ],
   "source": [
    "model_ret_ar_6 = ARMA(df.returns, order = (6,0))\n",
    "results_ret_ar_6 = model_ret_ar_6.fit()\n",
    "print(results_ret_ar_6.summary())\n",
    "print (\"LLR test: \" + str(LLR_test(model_ret_ar_5, model_ret_ar_6)))"
   ]
  },
  {
   "cell_type": "markdown",
   "id": "4beb5279",
   "metadata": {},
   "source": [
    "**AS the Pvalue is less than 5%, we should choose model with higher lag values (AR(6)).**"
   ]
  },
  {
   "cell_type": "code",
   "execution_count": 41,
   "id": "d77a9a7b",
   "metadata": {},
   "outputs": [
    {
     "name": "stdout",
     "output_type": "stream",
     "text": [
      "                              ARMA Model Results                              \n",
      "==============================================================================\n",
      "Dep. Variable:                returns   No. Observations:                 5020\n",
      "Model:                     ARMA(7, 0)   Log Likelihood               -7886.647\n",
      "Method:                       css-mle   S.D. of innovations              1.164\n",
      "Date:                Sun, 15 Aug 2021   AIC                          15791.294\n",
      "Time:                        16:20:26   BIC                          15849.985\n",
      "Sample:                    01-10-1994   HQIC                         15811.860\n",
      "                         - 04-05-2013                                         \n",
      "=================================================================================\n",
      "                    coef    std err          z      P>|z|      [0.025      0.975]\n",
      "---------------------------------------------------------------------------------\n",
      "const             0.0189      0.014      1.399      0.162      -0.008       0.045\n",
      "ar.L1.returns    -0.0240      0.014     -1.702      0.089      -0.052       0.004\n",
      "ar.L2.returns    -0.0517      0.014     -3.663      0.000      -0.079      -0.024\n",
      "ar.L3.returns    -0.0874      0.014     -6.202      0.000      -0.115      -0.060\n",
      "ar.L4.returns     0.0433      0.014      3.064      0.002       0.016       0.071\n",
      "ar.L5.returns    -0.0601      0.014     -4.263      0.000      -0.088      -0.032\n",
      "ar.L6.returns    -0.0463      0.014     -3.282      0.001      -0.074      -0.019\n",
      "ar.L7.returns     0.0109      0.014      0.772      0.440      -0.017       0.039\n",
      "                                    Roots                                    \n",
      "=============================================================================\n",
      "                  Real          Imaginary           Modulus         Frequency\n",
      "-----------------------------------------------------------------------------\n",
      "AR.1           -1.6490           -0.5384j            1.7347           -0.4498\n",
      "AR.2           -1.6490           +0.5384j            1.7347            0.4498\n",
      "AR.3           -0.1189           -1.4954j            1.5001           -0.2626\n",
      "AR.4           -0.1189           +1.4954j            1.5001            0.2626\n",
      "AR.5            1.2790           -0.9786j            1.6105           -0.1039\n",
      "AR.6            1.2790           +0.9786j            1.6105            0.1039\n",
      "AR.7            5.2269           -0.0000j            5.2269           -0.0000\n",
      "-----------------------------------------------------------------------------\n",
      "LLR test: 0.44\n"
     ]
    }
   ],
   "source": [
    "model_ret_ar_7 = ARMA(df.returns, order = (7,0))\n",
    "results_ret_ar_7 = model_ret_ar_7.fit()\n",
    "print(results_ret_ar_7.summary())\n",
    "print (\"LLR test: \" + str(LLR_test(model_ret_ar_6, model_ret_ar_7)))"
   ]
  },
  {
   "cell_type": "markdown",
   "id": "8914be0d",
   "metadata": {},
   "source": [
    "**AS the Pvalue is greater than 5%, we shouldn't choose model with higher lag values (AR(7)). So, we should use the AR(6) model.**"
   ]
  },
  {
   "cell_type": "code",
   "execution_count": null,
   "id": "e5364ffc",
   "metadata": {},
   "outputs": [],
   "source": []
  },
  {
   "cell_type": "markdown",
   "id": "c8d1e7cd",
   "metadata": {},
   "source": [
    "## Normalizing Values (Prices)\n",
    "In case of time series, when we normalize a set of values we basically map every value of sample space to the **percentage of the first value** of the set.\n",
    "$$X_{t}\\rightarrow \\%\\ of\\ X_{1} \\\\ Y_{t}\\rightarrow \\%\\ of\\ Y_{1}  $$<br>\n",
    "\n",
    "**By normalizing two time series we can compare how well they perform relative to one another.**\n"
   ]
  },
  {
   "cell_type": "code",
   "execution_count": 42,
   "id": "5de88b09",
   "metadata": {},
   "outputs": [],
   "source": [
    "benchmark = df.market_value.iloc[0]  # selecting first data as benchmark. All percentage will be relative to this value"
   ]
  },
  {
   "cell_type": "code",
   "execution_count": 43,
   "id": "57deae05",
   "metadata": {},
   "outputs": [],
   "source": [
    "df['norm'] = df.market_value.div(benchmark).mul(100)  #normalizing the column with respect to benchmark"
   ]
  },
  {
   "cell_type": "code",
   "execution_count": 44,
   "id": "de6413fb",
   "metadata": {},
   "outputs": [
    {
     "data": {
      "text/plain": [
       "(-1.8928710132672344,\n",
       " 0.33542220743300755,\n",
       " 6,\n",
       " 5013,\n",
       " {'1%': -3.431655136974821,\n",
       "  '5%': -2.8621167297421373,\n",
       "  '10%': -2.567076993884522},\n",
       " 19553.90073102193)"
      ]
     },
     "execution_count": 44,
     "metadata": {},
     "output_type": "execute_result"
    }
   ],
   "source": [
    "sts.adfuller(df.norm) #checking stationarity"
   ]
  },
  {
   "cell_type": "markdown",
   "id": "5ba38722",
   "metadata": {},
   "source": [
    "**NOTE:**\n",
    "* the normalized dataset is Non-stationary.\n",
    "* **Normalizing doesn't make a dataset stationary.**\n",
    "* As the dataset is Non-stationary, we shouldn't use AR model. "
   ]
  },
  {
   "cell_type": "markdown",
   "id": "eec79091",
   "metadata": {},
   "source": [
    "## Normalized Returns"
   ]
  },
  {
   "cell_type": "code",
   "execution_count": 45,
   "id": "9bc79adb",
   "metadata": {},
   "outputs": [
    {
     "data": {
      "text/plain": [
       "(-12.770265719497225,\n",
       " 7.798058336038833e-24,\n",
       " 32,\n",
       " 4987,\n",
       " {'1%': -3.431661944885779,\n",
       "  '5%': -2.8621197374408225,\n",
       "  '10%': -2.5670785949998973},\n",
       " 80114.49116124898)"
      ]
     },
     "execution_count": 45,
     "metadata": {},
     "output_type": "execute_result"
    }
   ],
   "source": [
    "bench_ret = df.returns.iloc[0]\n",
    "df['norm_ret'] = df.returns.div(bench_ret).mul(100)\n",
    "sts.adfuller(df.norm_ret)"
   ]
  },
  {
   "cell_type": "markdown",
   "id": "75ee8f3c",
   "metadata": {},
   "source": [
    "**As the normalized dataset is stationary, we can use AR model.**"
   ]
  },
  {
   "cell_type": "code",
   "execution_count": 46,
   "id": "c4926d9f",
   "metadata": {},
   "outputs": [
    {
     "data": {
      "text/html": [
       "<table class=\"simpletable\">\n",
       "<caption>ARMA Model Results</caption>\n",
       "<tr>\n",
       "  <th>Dep. Variable:</th>     <td>norm_ret</td>     <th>  No. Observations:  </th>    <td>5020</td>   \n",
       "</tr>\n",
       "<tr>\n",
       "  <th>Model:</th>            <td>ARMA(1, 0)</td>    <th>  Log Likelihood     </th> <td>-40351.743</td>\n",
       "</tr>\n",
       "<tr>\n",
       "  <th>Method:</th>             <td>css-mle</td>     <th>  S.D. of innovations</th>   <td>749.388</td> \n",
       "</tr>\n",
       "<tr>\n",
       "  <th>Date:</th>          <td>Sun, 15 Aug 2021</td> <th>  AIC                </th>  <td>80709.487</td>\n",
       "</tr>\n",
       "<tr>\n",
       "  <th>Time:</th>              <td>17:05:46</td>     <th>  BIC                </th>  <td>80729.050</td>\n",
       "</tr>\n",
       "<tr>\n",
       "  <th>Sample:</th>           <td>01-10-1994</td>    <th>  HQIC               </th>  <td>80716.342</td>\n",
       "</tr>\n",
       "<tr>\n",
       "  <th></th>                 <td>- 04-05-2013</td>   <th>                     </th>      <td> </td>    \n",
       "</tr>\n",
       "</table>\n",
       "<table class=\"simpletable\">\n",
       "<tr>\n",
       "         <td></td>           <th>coef</th>     <th>std err</th>      <th>z</th>      <th>P>|z|</th>  <th>[0.025</th>    <th>0.975]</th>  \n",
       "</tr>\n",
       "<tr>\n",
       "  <th>const</th>          <td>  -11.9731</td> <td>   10.339</td> <td>   -1.158</td> <td> 0.247</td> <td>  -32.237</td> <td>    8.291</td>\n",
       "</tr>\n",
       "<tr>\n",
       "  <th>ar.L1.norm_ret</th> <td>   -0.0230</td> <td>    0.014</td> <td>   -1.631</td> <td> 0.103</td> <td>   -0.051</td> <td>    0.005</td>\n",
       "</tr>\n",
       "</table>\n",
       "<table class=\"simpletable\">\n",
       "<caption>Roots</caption>\n",
       "<tr>\n",
       "    <td></td>   <th>            Real</th>  <th>         Imaginary</th> <th>         Modulus</th>  <th>        Frequency</th>\n",
       "</tr>\n",
       "<tr>\n",
       "  <th>AR.1</th> <td>         -43.4381</td> <td>          +0.0000j</td> <td>          43.4381</td> <td>           0.5000</td>\n",
       "</tr>\n",
       "</table>"
      ],
      "text/plain": [
       "<class 'statsmodels.iolib.summary.Summary'>\n",
       "\"\"\"\n",
       "                              ARMA Model Results                              \n",
       "==============================================================================\n",
       "Dep. Variable:               norm_ret   No. Observations:                 5020\n",
       "Model:                     ARMA(1, 0)   Log Likelihood              -40351.743\n",
       "Method:                       css-mle   S.D. of innovations            749.388\n",
       "Date:                Sun, 15 Aug 2021   AIC                          80709.487\n",
       "Time:                        17:05:46   BIC                          80729.050\n",
       "Sample:                    01-10-1994   HQIC                         80716.342\n",
       "                         - 04-05-2013                                         \n",
       "==================================================================================\n",
       "                     coef    std err          z      P>|z|      [0.025      0.975]\n",
       "----------------------------------------------------------------------------------\n",
       "const            -11.9731     10.339     -1.158      0.247     -32.237       8.291\n",
       "ar.L1.norm_ret    -0.0230      0.014     -1.631      0.103      -0.051       0.005\n",
       "                                    Roots                                    \n",
       "=============================================================================\n",
       "                  Real          Imaginary           Modulus         Frequency\n",
       "-----------------------------------------------------------------------------\n",
       "AR.1          -43.4381           +0.0000j           43.4381            0.5000\n",
       "-----------------------------------------------------------------------------\n",
       "\"\"\""
      ]
     },
     "execution_count": 46,
     "metadata": {},
     "output_type": "execute_result"
    }
   ],
   "source": [
    "model_norm_ret_ar_1 = ARMA (df.norm_ret, order=(1,0))\n",
    "results_norm_ret_ar_1 = model_norm_ret_ar_1.fit()\n",
    "results_norm_ret_ar_1.summary()"
   ]
  },
  {
   "cell_type": "code",
   "execution_count": 47,
   "id": "31a2ad1b",
   "metadata": {},
   "outputs": [
    {
     "data": {
      "text/html": [
       "<table class=\"simpletable\">\n",
       "<caption>ARMA Model Results</caption>\n",
       "<tr>\n",
       "  <th>Dep. Variable:</th>     <td>norm_ret</td>     <th>  No. Observations:  </th>    <td>5020</td>   \n",
       "</tr>\n",
       "<tr>\n",
       "  <th>Model:</th>            <td>ARMA(2, 0)</td>    <th>  Log Likelihood     </th> <td>-40345.450</td>\n",
       "</tr>\n",
       "<tr>\n",
       "  <th>Method:</th>             <td>css-mle</td>     <th>  S.D. of innovations</th>   <td>748.449</td> \n",
       "</tr>\n",
       "<tr>\n",
       "  <th>Date:</th>          <td>Sun, 15 Aug 2021</td> <th>  AIC                </th>  <td>80698.901</td>\n",
       "</tr>\n",
       "<tr>\n",
       "  <th>Time:</th>              <td>17:06:03</td>     <th>  BIC                </th>  <td>80724.985</td>\n",
       "</tr>\n",
       "<tr>\n",
       "  <th>Sample:</th>           <td>01-10-1994</td>    <th>  HQIC               </th>  <td>80708.041</td>\n",
       "</tr>\n",
       "<tr>\n",
       "  <th></th>                 <td>- 04-05-2013</td>   <th>                     </th>      <td> </td>    \n",
       "</tr>\n",
       "</table>\n",
       "<table class=\"simpletable\">\n",
       "<tr>\n",
       "         <td></td>           <th>coef</th>     <th>std err</th>      <th>z</th>      <th>P>|z|</th>  <th>[0.025</th>    <th>0.975]</th>  \n",
       "</tr>\n",
       "<tr>\n",
       "  <th>const</th>          <td>  -11.9731</td> <td>    9.834</td> <td>   -1.218</td> <td> 0.223</td> <td>  -31.247</td> <td>    7.301</td>\n",
       "</tr>\n",
       "<tr>\n",
       "  <th>ar.L1.norm_ret</th> <td>   -0.0242</td> <td>    0.014</td> <td>   -1.716</td> <td> 0.086</td> <td>   -0.052</td> <td>    0.003</td>\n",
       "</tr>\n",
       "<tr>\n",
       "  <th>ar.L2.norm_ret</th> <td>   -0.0500</td> <td>    0.014</td> <td>   -3.550</td> <td> 0.000</td> <td>   -0.078</td> <td>   -0.022</td>\n",
       "</tr>\n",
       "</table>\n",
       "<table class=\"simpletable\">\n",
       "<caption>Roots</caption>\n",
       "<tr>\n",
       "    <td></td>   <th>            Real</th>  <th>         Imaginary</th> <th>         Modulus</th>  <th>        Frequency</th>\n",
       "</tr>\n",
       "<tr>\n",
       "  <th>AR.1</th> <td>          -0.2417</td> <td>          -4.4635j</td> <td>           4.4701</td> <td>          -0.2586</td>\n",
       "</tr>\n",
       "<tr>\n",
       "  <th>AR.2</th> <td>          -0.2417</td> <td>          +4.4635j</td> <td>           4.4701</td> <td>           0.2586</td>\n",
       "</tr>\n",
       "</table>"
      ],
      "text/plain": [
       "<class 'statsmodels.iolib.summary.Summary'>\n",
       "\"\"\"\n",
       "                              ARMA Model Results                              \n",
       "==============================================================================\n",
       "Dep. Variable:               norm_ret   No. Observations:                 5020\n",
       "Model:                     ARMA(2, 0)   Log Likelihood              -40345.450\n",
       "Method:                       css-mle   S.D. of innovations            748.449\n",
       "Date:                Sun, 15 Aug 2021   AIC                          80698.901\n",
       "Time:                        17:06:03   BIC                          80724.985\n",
       "Sample:                    01-10-1994   HQIC                         80708.041\n",
       "                         - 04-05-2013                                         \n",
       "==================================================================================\n",
       "                     coef    std err          z      P>|z|      [0.025      0.975]\n",
       "----------------------------------------------------------------------------------\n",
       "const            -11.9731      9.834     -1.218      0.223     -31.247       7.301\n",
       "ar.L1.norm_ret    -0.0242      0.014     -1.716      0.086      -0.052       0.003\n",
       "ar.L2.norm_ret    -0.0500      0.014     -3.550      0.000      -0.078      -0.022\n",
       "                                    Roots                                    \n",
       "=============================================================================\n",
       "                  Real          Imaginary           Modulus         Frequency\n",
       "-----------------------------------------------------------------------------\n",
       "AR.1           -0.2417           -4.4635j            4.4701           -0.2586\n",
       "AR.2           -0.2417           +4.4635j            4.4701            0.2586\n",
       "-----------------------------------------------------------------------------\n",
       "\"\"\""
      ]
     },
     "execution_count": 47,
     "metadata": {},
     "output_type": "execute_result"
    }
   ],
   "source": [
    "model_norm_ret_ar_2 = ARMA(df.norm_ret, order=(2,0))\n",
    "results_norm_ret_ar_2 = model_norm_ret_ar_2.fit()\n",
    "results_norm_ret_ar_2.summary()"
   ]
  },
  {
   "cell_type": "markdown",
   "id": "4efa227b",
   "metadata": {},
   "source": [
    "**NOTES**\n",
    "* Normalizing data doesn't add any effect in model selection.\n",
    "* The Constant (C) are different but the **coeffients are identical** for both normalized and Non-normalized dataset."
   ]
  },
  {
   "cell_type": "code",
   "execution_count": 48,
   "id": "c96c38e9",
   "metadata": {},
   "outputs": [
    {
     "data": {
      "text/html": [
       "<table class=\"simpletable\">\n",
       "<caption>ARMA Model Results</caption>\n",
       "<tr>\n",
       "  <th>Dep. Variable:</th>     <td>norm_ret</td>     <th>  No. Observations:  </th>    <td>5020</td>   \n",
       "</tr>\n",
       "<tr>\n",
       "  <th>Model:</th>            <td>ARMA(7, 0)</td>    <th>  Log Likelihood     </th> <td>-40308.642</td>\n",
       "</tr>\n",
       "<tr>\n",
       "  <th>Method:</th>             <td>css-mle</td>     <th>  S.D. of innovations</th>   <td>742.977</td> \n",
       "</tr>\n",
       "<tr>\n",
       "  <th>Date:</th>          <td>Sun, 15 Aug 2021</td> <th>  AIC                </th>  <td>80635.283</td>\n",
       "</tr>\n",
       "<tr>\n",
       "  <th>Time:</th>              <td>17:06:15</td>     <th>  BIC                </th>  <td>80693.974</td>\n",
       "</tr>\n",
       "<tr>\n",
       "  <th>Sample:</th>           <td>01-10-1994</td>    <th>  HQIC               </th>  <td>80655.849</td>\n",
       "</tr>\n",
       "<tr>\n",
       "  <th></th>                 <td>- 04-05-2013</td>   <th>                     </th>      <td> </td>    \n",
       "</tr>\n",
       "</table>\n",
       "<table class=\"simpletable\">\n",
       "<tr>\n",
       "         <td></td>           <th>coef</th>     <th>std err</th>      <th>z</th>      <th>P>|z|</th>  <th>[0.025</th>    <th>0.975]</th>  \n",
       "</tr>\n",
       "<tr>\n",
       "  <th>const</th>          <td>  -11.9731</td> <td>    8.630</td> <td>   -1.387</td> <td> 0.165</td> <td>  -28.887</td> <td>    4.941</td>\n",
       "</tr>\n",
       "<tr>\n",
       "  <th>ar.L1.norm_ret</th> <td>   -0.0240</td> <td>    0.014</td> <td>   -1.702</td> <td> 0.089</td> <td>   -0.052</td> <td>    0.004</td>\n",
       "</tr>\n",
       "<tr>\n",
       "  <th>ar.L2.norm_ret</th> <td>   -0.0517</td> <td>    0.014</td> <td>   -3.663</td> <td> 0.000</td> <td>   -0.079</td> <td>   -0.024</td>\n",
       "</tr>\n",
       "<tr>\n",
       "  <th>ar.L3.norm_ret</th> <td>   -0.0874</td> <td>    0.014</td> <td>   -6.202</td> <td> 0.000</td> <td>   -0.115</td> <td>   -0.060</td>\n",
       "</tr>\n",
       "<tr>\n",
       "  <th>ar.L4.norm_ret</th> <td>    0.0433</td> <td>    0.014</td> <td>    3.064</td> <td> 0.002</td> <td>    0.016</td> <td>    0.071</td>\n",
       "</tr>\n",
       "<tr>\n",
       "  <th>ar.L5.norm_ret</th> <td>   -0.0601</td> <td>    0.014</td> <td>   -4.263</td> <td> 0.000</td> <td>   -0.088</td> <td>   -0.032</td>\n",
       "</tr>\n",
       "<tr>\n",
       "  <th>ar.L6.norm_ret</th> <td>   -0.0463</td> <td>    0.014</td> <td>   -3.282</td> <td> 0.001</td> <td>   -0.074</td> <td>   -0.019</td>\n",
       "</tr>\n",
       "<tr>\n",
       "  <th>ar.L7.norm_ret</th> <td>    0.0109</td> <td>    0.014</td> <td>    0.772</td> <td> 0.440</td> <td>   -0.017</td> <td>    0.039</td>\n",
       "</tr>\n",
       "</table>\n",
       "<table class=\"simpletable\">\n",
       "<caption>Roots</caption>\n",
       "<tr>\n",
       "    <td></td>   <th>            Real</th>  <th>         Imaginary</th> <th>         Modulus</th>  <th>        Frequency</th>\n",
       "</tr>\n",
       "<tr>\n",
       "  <th>AR.1</th> <td>          -1.6490</td> <td>          -0.5384j</td> <td>           1.7347</td> <td>          -0.4498</td>\n",
       "</tr>\n",
       "<tr>\n",
       "  <th>AR.2</th> <td>          -1.6490</td> <td>          +0.5384j</td> <td>           1.7347</td> <td>           0.4498</td>\n",
       "</tr>\n",
       "<tr>\n",
       "  <th>AR.3</th> <td>          -0.1189</td> <td>          -1.4954j</td> <td>           1.5001</td> <td>          -0.2626</td>\n",
       "</tr>\n",
       "<tr>\n",
       "  <th>AR.4</th> <td>          -0.1189</td> <td>          +1.4954j</td> <td>           1.5001</td> <td>           0.2626</td>\n",
       "</tr>\n",
       "<tr>\n",
       "  <th>AR.5</th> <td>           1.2790</td> <td>          -0.9786j</td> <td>           1.6105</td> <td>          -0.1039</td>\n",
       "</tr>\n",
       "<tr>\n",
       "  <th>AR.6</th> <td>           1.2790</td> <td>          +0.9786j</td> <td>           1.6105</td> <td>           0.1039</td>\n",
       "</tr>\n",
       "<tr>\n",
       "  <th>AR.7</th> <td>           5.2268</td> <td>          -0.0000j</td> <td>           5.2268</td> <td>          -0.0000</td>\n",
       "</tr>\n",
       "</table>"
      ],
      "text/plain": [
       "<class 'statsmodels.iolib.summary.Summary'>\n",
       "\"\"\"\n",
       "                              ARMA Model Results                              \n",
       "==============================================================================\n",
       "Dep. Variable:               norm_ret   No. Observations:                 5020\n",
       "Model:                     ARMA(7, 0)   Log Likelihood              -40308.642\n",
       "Method:                       css-mle   S.D. of innovations            742.977\n",
       "Date:                Sun, 15 Aug 2021   AIC                          80635.283\n",
       "Time:                        17:06:15   BIC                          80693.974\n",
       "Sample:                    01-10-1994   HQIC                         80655.849\n",
       "                         - 04-05-2013                                         \n",
       "==================================================================================\n",
       "                     coef    std err          z      P>|z|      [0.025      0.975]\n",
       "----------------------------------------------------------------------------------\n",
       "const            -11.9731      8.630     -1.387      0.165     -28.887       4.941\n",
       "ar.L1.norm_ret    -0.0240      0.014     -1.702      0.089      -0.052       0.004\n",
       "ar.L2.norm_ret    -0.0517      0.014     -3.663      0.000      -0.079      -0.024\n",
       "ar.L3.norm_ret    -0.0874      0.014     -6.202      0.000      -0.115      -0.060\n",
       "ar.L4.norm_ret     0.0433      0.014      3.064      0.002       0.016       0.071\n",
       "ar.L5.norm_ret    -0.0601      0.014     -4.263      0.000      -0.088      -0.032\n",
       "ar.L6.norm_ret    -0.0463      0.014     -3.282      0.001      -0.074      -0.019\n",
       "ar.L7.norm_ret     0.0109      0.014      0.772      0.440      -0.017       0.039\n",
       "                                    Roots                                    \n",
       "=============================================================================\n",
       "                  Real          Imaginary           Modulus         Frequency\n",
       "-----------------------------------------------------------------------------\n",
       "AR.1           -1.6490           -0.5384j            1.7347           -0.4498\n",
       "AR.2           -1.6490           +0.5384j            1.7347            0.4498\n",
       "AR.3           -0.1189           -1.4954j            1.5001           -0.2626\n",
       "AR.4           -0.1189           +1.4954j            1.5001            0.2626\n",
       "AR.5            1.2790           -0.9786j            1.6105           -0.1039\n",
       "AR.6            1.2790           +0.9786j            1.6105            0.1039\n",
       "AR.7            5.2268           -0.0000j            5.2268           -0.0000\n",
       "-----------------------------------------------------------------------------\n",
       "\"\"\""
      ]
     },
     "execution_count": 48,
     "metadata": {},
     "output_type": "execute_result"
    }
   ],
   "source": [
    "model_norm_ret_ar_7 = ARMA(df.norm_ret, order=(7,0))\n",
    "results_norm_ret_ar_7 = model_norm_ret_ar_7.fit()\n",
    "results_norm_ret_ar_7.summary()"
   ]
  },
  {
   "cell_type": "markdown",
   "id": "cc87733d",
   "metadata": {},
   "source": [
    "**The same model that failed  for regular returns would also fail for normalized return.**"
   ]
  },
  {
   "cell_type": "code",
   "execution_count": null,
   "id": "ef8e7c67",
   "metadata": {},
   "outputs": [],
   "source": []
  },
  {
   "cell_type": "code",
   "execution_count": null,
   "id": "6e92102b",
   "metadata": {},
   "outputs": [],
   "source": []
  },
  {
   "cell_type": "code",
   "execution_count": null,
   "id": "4738e1a9",
   "metadata": {},
   "outputs": [],
   "source": []
  },
  {
   "cell_type": "markdown",
   "id": "758f3c5e",
   "metadata": {},
   "source": [
    "## Analysing the Residuals - for prices\n",
    "**The residuals are the errors of our model. So, if they are just random (white noises) it will mean our model is a good fit for the data. This means our model captured all the patterns of the data and the rests are just white noises**"
   ]
  },
  {
   "cell_type": "code",
   "execution_count": 53,
   "id": "683af18a",
   "metadata": {},
   "outputs": [],
   "source": [
    "# AR(7) was best fitting model for prices\n",
    "# results_ar_7.fit().resid  should be used to extract residuals from fitted model \n",
    "df['res_price'] = results_ar_7.resid      #As we already fitted the model"
   ]
  },
  {
   "cell_type": "code",
   "execution_count": 54,
   "id": "43aee350",
   "metadata": {},
   "outputs": [
    {
     "data": {
      "text/plain": [
       "0.6797421785440567"
      ]
     },
     "execution_count": 54,
     "metadata": {},
     "output_type": "execute_result"
    }
   ],
   "source": [
    "df.res_price.mean()"
   ]
  },
  {
   "cell_type": "code",
   "execution_count": 55,
   "id": "f349ba44",
   "metadata": {},
   "outputs": [
    {
     "data": {
      "text/plain": [
       "3468.125835337089"
      ]
     },
     "execution_count": 55,
     "metadata": {},
     "output_type": "execute_result"
    }
   ],
   "source": [
    "df.res_price.var()"
   ]
  },
  {
   "cell_type": "markdown",
   "id": "ef800a14",
   "metadata": {},
   "source": [
    "**NOTES**\n",
    "* The mean is close to zero which suggests that on average our model performs well.\n",
    "* The high variance indicates the residuals are not concentrated around the mean of 0 but all over the place. **This is primarily because AR model poorly when predicting Non-stationary data**."
   ]
  },
  {
   "cell_type": "code",
   "execution_count": 56,
   "id": "d1d19429",
   "metadata": {},
   "outputs": [
    {
     "data": {
      "text/plain": [
       "(-70.81710227071052,\n",
       " 0.0,\n",
       " 0,\n",
       " 5019,\n",
       " {'1%': -3.4316535759402753,\n",
       "  '5%': -2.8621160400844468,\n",
       "  '10%': -2.567076626752987},\n",
       " 54832.41977013354)"
      ]
     },
     "execution_count": 56,
     "metadata": {},
     "output_type": "execute_result"
    }
   ],
   "source": [
    "sts.adfuller(df.res_price)  #checking stationarity for residual values. Should be stationary "
   ]
  },
  {
   "cell_type": "markdown",
   "id": "977cef53",
   "metadata": {},
   "source": [
    "**The time series is stationary as expected. Because the datas are all white noise.**"
   ]
  },
  {
   "cell_type": "code",
   "execution_count": 57,
   "id": "47c701a7",
   "metadata": {},
   "outputs": [
    {
     "data": {
      "image/png": "[encoded data removed]",
      "text/plain": [
       "<Figure size 432x288 with 1 Axes>"
      ]
     },
     "metadata": {},
     "output_type": "display_data"
    }
   ],
   "source": [
    "sgt.plot_acf(df.res_price, zero = False, lags = 40)\n",
    "plt.title(\"ACF Of Residuals for Prices\",size=24)\n",
    "plt.show()"
   ]
  },
  {
   "cell_type": "markdown",
   "id": "4df4d5bb",
   "metadata": {},
   "source": [
    "**The majority of the coefficients fall within the blue region. This suggests they're not significantly different from zero which fits the characteristics of white noise.<br>\n",
    "However, the few points that fall outside this area lead us to believe that there is an even better predictor.** "
   ]
  },
  {
   "cell_type": "code",
   "execution_count": 58,
   "id": "3044b5f4",
   "metadata": {},
   "outputs": [
    {
     "data": {
      "image/png": "[encoded data removed]",
      "text/plain": [
       "<Figure size 1440x360 with 1 Axes>"
      ]
     },
     "metadata": {},
     "output_type": "display_data"
    }
   ],
   "source": [
    "df.res_price[1:].plot(figsize=(20,5))\n",
    "plt.title(\"Residuals of Prices\",size=24)\n",
    "plt.show()"
   ]
  },
  {
   "cell_type": "markdown",
   "id": "dac8d973",
   "metadata": {},
   "source": [
    "**We cannot find any obvious pattern for the data. So, all of the residuals are just white noises. So our choice of model seems correct.**"
   ]
  },
  {
   "cell_type": "code",
   "execution_count": null,
   "id": "85f911a4",
   "metadata": {},
   "outputs": [],
   "source": []
  },
  {
   "cell_type": "markdown",
   "id": "12f5cf7f",
   "metadata": {},
   "source": [
    "## Analysing the Residuals - Returns"
   ]
  },
  {
   "cell_type": "code",
   "execution_count": 59,
   "id": "8b139193",
   "metadata": {},
   "outputs": [],
   "source": [
    "# AR(6) was best fitting model for returns\n",
    "df['res_ret'] = results_ret_ar_6.resid"
   ]
  },
  {
   "cell_type": "code",
   "execution_count": 60,
   "id": "e47431c2",
   "metadata": {},
   "outputs": [
    {
     "data": {
      "text/plain": [
       "-5.370315341241698e-05"
      ]
     },
     "execution_count": 60,
     "metadata": {},
     "output_type": "execute_result"
    }
   ],
   "source": [
    "df.res_ret.mean()"
   ]
  },
  {
   "cell_type": "code",
   "execution_count": 61,
   "id": "6ab838d5",
   "metadata": {},
   "outputs": [
    {
     "data": {
      "text/plain": [
       "1.3559802110723074"
      ]
     },
     "execution_count": 61,
     "metadata": {},
     "output_type": "execute_result"
    }
   ],
   "source": [
    "df.res_ret.var()"
   ]
  },
  {
   "cell_type": "markdown",
   "id": "68521b2f",
   "metadata": {},
   "source": [
    "**NOTES**\n",
    "* Their values are closer to what we might expect from white noise data . \n",
    "* The mean is close to zero and a variance of around 1 indicate that our choice of model was pretty good."
   ]
  },
  {
   "cell_type": "code",
   "execution_count": 62,
   "id": "9bf54854",
   "metadata": {},
   "outputs": [
    {
     "data": {
      "text/plain": [
       "(-70.78379762777203,\n",
       " 0.0,\n",
       " 0,\n",
       " 5019,\n",
       " {'1%': -3.4316535759402753,\n",
       "  '5%': -2.8621160400844468,\n",
       "  '10%': -2.567076626752987},\n",
       " 15692.570834259901)"
      ]
     },
     "execution_count": 62,
     "metadata": {},
     "output_type": "execute_result"
    }
   ],
   "source": [
    "sts.adfuller(df.res_ret)"
   ]
  },
  {
   "cell_type": "markdown",
   "id": "e398d94c",
   "metadata": {},
   "source": [
    "**The data is stationary since white noise is stationary.**"
   ]
  },
  {
   "cell_type": "code",
   "execution_count": 63,
   "id": "f2529488",
   "metadata": {},
   "outputs": [
    {
     "data": {
      "image/png": "[encoded data removed]",
      "text/plain": [
       "<Figure size 432x288 with 1 Axes>"
      ]
     },
     "metadata": {},
     "output_type": "display_data"
    }
   ],
   "source": [
    "sgt.plot_acf(df.res_ret, zero = False, lags = 40)\n",
    "plt.title(\"ACF Of Residuals for Returns\",size=24)\n",
    "plt.show()"
   ]
  },
  {
   "cell_type": "markdown",
   "id": "e00ba511",
   "metadata": {},
   "source": [
    "**The majority of the coefficients fall within the blue region. This suggests they're not significantly different from zero which fits the characteristics of white noise.<br>\n",
    "However, the few points that fall outside this area lead us to believe that there is an even better predictor** "
   ]
  },
  {
   "cell_type": "code",
   "execution_count": 64,
   "id": "a422164e",
   "metadata": {},
   "outputs": [
    {
     "data": {
      "image/png": "[encoded data removed]",
      "text/plain": [
       "<Figure size 1440x360 with 1 Axes>"
      ]
     },
     "metadata": {},
     "output_type": "display_data"
    }
   ],
   "source": [
    "df.res_ret.plot(figsize=(20,5))\n",
    "plt.title(\"Residuals of Returns\", size=24)\n",
    "plt.show()"
   ]
  },
  {
   "cell_type": "markdown",
   "id": "3271ffb4",
   "metadata": {},
   "source": [
    "**WE can't find any pattern in the data as they are all white noises.**"
   ]
  },
  {
   "cell_type": "code",
   "execution_count": null,
   "id": "a2a852cd",
   "metadata": {},
   "outputs": [],
   "source": []
  },
  {
   "cell_type": "code",
   "execution_count": null,
   "id": "bc13b605",
   "metadata": {},
   "outputs": [],
   "source": []
  }
 ],
 "metadata": {
  "kernelspec": {
   "display_name": "Python 3",
   "language": "python",
   "name": "python3"
  },
  "language_info": {
   "codemirror_mode": {
    "name": "ipython",
    "version": 3
   },
   "file_extension": ".py",
   "mimetype": "text/x-python",
   "name": "python",
   "nbconvert_exporter": "python",
   "pygments_lexer": "ipython3",
   "version": "3.8.8"
  }
 },
 "nbformat": 4,
 "nbformat_minor": 5
}
